{
 "cells": [
  {
   "cell_type": "markdown",
   "metadata": {},
   "source": [
    "# Logistic Regression with a Neural Network mindset\n",
    "\n",
    "Welcome to your first (required) programming assignment! You will build a logistic regression classifier to recognize  cats. This assignment will step you through how to do this with a Neural Network mindset, and so will also hone your intuitions about deep learning.\n",
    "\n",
    "**Instructions:**\n",
    "- Do not use loops (for/while) in your code, unless the instructions explicitly ask you to do so.\n",
    "\n",
    "**You will learn to:**\n",
    "- Build the general architecture of a learning algorithm, including:\n",
    "    - Initializing parameters\n",
    "    - Calculating the cost function and its gradient\n",
    "    - Using an optimization algorithm (gradient descent) \n",
    "- Gather all three functions above into a main model function, in the right order."
   ]
  },
  {
   "cell_type": "markdown",
   "metadata": {},
   "source": [
    "## <font color='darkblue'>Updates</font>\n",
    "This notebook has been updated over the past few months.  The prior version was named \"v5\", and the current versionis now named '6a'\n",
    "\n",
    "#### If you were working on a previous version:\n",
    "* You can find your prior work by looking in the file directory for the older files (named by version name).\n",
    "* To view the file directory, click on the \"Coursera\" icon in the top left corner of this notebook.\n",
    "* Please copy your work from the older versions to the new version, in order to submit your work for grading.\n",
    "\n",
    "#### List of Updates\n",
    "* Forward propagation formula, indexing now starts at 1 instead of 0.\n",
    "* Optimization function comment now says \"print cost every 100 training iterations\" instead of \"examples\".\n",
    "* Fixed grammar in the comments.\n",
    "* Y_prediction_test variable name is used consistently.\n",
    "* Plot's axis label now says \"iterations (hundred)\" instead of \"iterations\".\n",
    "* When testing the model, the test image is normalized by dividing by 255."
   ]
  },
  {
   "cell_type": "markdown",
   "metadata": {},
   "source": [
    "## 1 - Packages ##\n",
    "\n",
    "First, let's run the cell below to import all the packages that you will need during this assignment. \n",
    "- [numpy](www.numpy.org) is the fundamental package for scientific computing with Python.\n",
    "- [h5py](http://www.h5py.org) is a common package to interact with a dataset that is stored on an H5 file.\n",
    "- [matplotlib](http://matplotlib.org) is a famous library to plot graphs in Python.\n",
    "- [PIL](http://www.pythonware.com/products/pil/) and [scipy](https://www.scipy.org/) are used here to test your model with your own picture at the end."
   ]
  },
  {
   "cell_type": "code",
   "execution_count": 1,
   "metadata": {
    "collapsed": true
   },
   "outputs": [],
   "source": [
    "import numpy as np\n",
    "import matplotlib.pyplot as plt\n",
    "import h5py\n",
    "import scipy\n",
    "from PIL import Image\n",
    "from scipy import ndimage\n",
    "from lr_utils import load_dataset\n",
    "\n",
    "%matplotlib inline"
   ]
  },
  {
   "cell_type": "markdown",
   "metadata": {},
   "source": [
    "## 2 - Overview of the Problem set ##\n",
    "\n",
    "**Problem Statement**: You are given a dataset (\"data.h5\") containing:\n",
    "    - a training set of m_train images labeled as cat (y=1) or non-cat (y=0)\n",
    "    - a test set of m_test images labeled as cat or non-cat\n",
    "    - each image is of shape (num_px, num_px, 3) where 3 is for the 3 channels (RGB). Thus, each image is square (height = num_px) and (width = num_px).\n",
    "\n",
    "You will build a simple image-recognition algorithm that can correctly classify pictures as cat or non-cat.\n",
    "\n",
    "Let's get more familiar with the dataset. Load the data by running the following code."
   ]
  },
  {
   "cell_type": "code",
   "execution_count": 2,
   "metadata": {
    "collapsed": true
   },
   "outputs": [],
   "source": [
    "# Loading the data (cat/non-cat)\n",
    "train_set_x_orig, train_set_y, test_set_x_orig, test_set_y, classes = load_dataset()"
   ]
  },
  {
   "cell_type": "markdown",
   "metadata": {},
   "source": [
    "We added \"_orig\" at the end of image datasets (train and test) because we are going to preprocess them. After preprocessing, we will end up with train_set_x and test_set_x (the labels train_set_y and test_set_y don't need any preprocessing).\n",
    "\n",
    "Each line of your train_set_x_orig and test_set_x_orig is an array representing an image. You can visualize an example by running the following code. Feel free also to change the `index` value and re-run to see other images. "
   ]
  },
  {
   "cell_type": "code",
   "execution_count": 3,
   "metadata": {},
   "outputs": [
    {
     "output_type": "stream",
     "name": "stdout",
     "text": [
      "y = [1], it's a 'cat' picture.\n"
     ]
    },
    {
     "output_type": "display_data",
     "data": {
      "text/plain": "<Figure size 432x288 with 1 Axes>",
      "image/svg+xml": "<?xml version=\"1.0\" encoding=\"utf-8\" standalone=\"no\"?>\n<!DOCTYPE svg PUBLIC \"-//W3C//DTD SVG 1.1//EN\"\n  \"http://www.w3.org/Graphics/SVG/1.1/DTD/svg11.dtd\">\n<svg height=\"250.618594pt\" version=\"1.1\" viewBox=\"0 0 251.565 250.618594\" width=\"251.565pt\" xmlns=\"http://www.w3.org/2000/svg\" xmlns:xlink=\"http://www.w3.org/1999/xlink\">\n <metadata>\n  <rdf:RDF xmlns:cc=\"http://creativecommons.org/ns#\" xmlns:dc=\"http://purl.org/dc/elements/1.1/\" xmlns:rdf=\"http://www.w3.org/1999/02/22-rdf-syntax-ns#\">\n   <cc:Work>\n    <dc:type rdf:resource=\"http://purl.org/dc/dcmitype/StillImage\"/>\n    <dc:date>2021-04-12T05:53:18.780704</dc:date>\n    <dc:format>image/svg+xml</dc:format>\n    <dc:creator>\n     <cc:Agent>\n      <dc:title>Matplotlib v3.4.1, https://matplotlib.org/</dc:title>\n     </cc:Agent>\n    </dc:creator>\n   </cc:Work>\n  </rdf:RDF>\n </metadata>\n <defs>\n  <style type=\"text/css\">*{stroke-linecap:butt;stroke-linejoin:round;}</style>\n </defs>\n <g id=\"figure_1\">\n  <g id=\"patch_1\">\n   <path d=\"M 0 250.618594 \nL 251.565 250.618594 \nL 251.565 0 \nL 0 0 \nz\n\" style=\"fill:none;\"/>\n  </g>\n  <g id=\"axes_1\">\n   <g id=\"patch_2\">\n    <path d=\"M 26.925 226.740469 \nL 244.365 226.740469 \nL 244.365 9.300469 \nL 26.925 9.300469 \nz\n\" style=\"fill:#ffffff;\"/>\n   </g>\n   <g clip-path=\"url(#p53e92f161b)\">\n    <image height=\"218\" id=\"imagebd179f8935\" transform=\"scale(1 -1)translate(0 -218)\" width=\"218\" x=\"26.925\" xlink:href=\"data:image/png;base64,\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\" y=\"-8.740469\"/>\n   </g>\n   <g id=\"matplotlib.axis_1\">\n    <g id=\"xtick_1\">\n     <g id=\"line2d_1\">\n      <defs>\n       <path d=\"M 0 0 \nL 0 3.5 \n\" id=\"m75b94f4bd5\" style=\"stroke:#000000;stroke-width:0.8;\"/>\n      </defs>\n      <g>\n       <use style=\"stroke:#000000;stroke-width:0.8;\" x=\"28.62375\" xlink:href=\"#m75b94f4bd5\" y=\"226.740469\"/>\n      </g>\n     </g>\n     <g id=\"text_1\">\n      <!-- 0 -->\n      <g transform=\"translate(25.4425 241.338906)scale(0.1 -0.1)\">\n       <defs>\n        <path d=\"M 2034 4250 \nQ 1547 4250 1301 3770 \nQ 1056 3291 1056 2328 \nQ 1056 1369 1301 889 \nQ 1547 409 2034 409 \nQ 2525 409 2770 889 \nQ 3016 1369 3016 2328 \nQ 3016 3291 2770 3770 \nQ 2525 4250 2034 4250 \nz\nM 2034 4750 \nQ 2819 4750 3233 4129 \nQ 3647 3509 3647 2328 \nQ 3647 1150 3233 529 \nQ 2819 -91 2034 -91 \nQ 1250 -91 836 529 \nQ 422 1150 422 2328 \nQ 422 3509 836 4129 \nQ 1250 4750 2034 4750 \nz\n\" id=\"DejaVuSans-30\" transform=\"scale(0.015625)\"/>\n       </defs>\n       <use xlink:href=\"#DejaVuSans-30\"/>\n      </g>\n     </g>\n    </g>\n    <g id=\"xtick_2\">\n     <g id=\"line2d_2\">\n      <g>\n       <use style=\"stroke:#000000;stroke-width:0.8;\" x=\"62.59875\" xlink:href=\"#m75b94f4bd5\" y=\"226.740469\"/>\n      </g>\n     </g>\n     <g id=\"text_2\">\n      <!-- 10 -->\n      <g transform=\"translate(56.23625 241.338906)scale(0.1 -0.1)\">\n       <defs>\n        <path d=\"M 794 531 \nL 1825 531 \nL 1825 4091 \nL 703 3866 \nL 703 4441 \nL 1819 4666 \nL 2450 4666 \nL 2450 531 \nL 3481 531 \nL 3481 0 \nL 794 0 \nL 794 531 \nz\n\" id=\"DejaVuSans-31\" transform=\"scale(0.015625)\"/>\n       </defs>\n       <use xlink:href=\"#DejaVuSans-31\"/>\n       <use x=\"63.623047\" xlink:href=\"#DejaVuSans-30\"/>\n      </g>\n     </g>\n    </g>\n    <g id=\"xtick_3\">\n     <g id=\"line2d_3\">\n      <g>\n       <use style=\"stroke:#000000;stroke-width:0.8;\" x=\"96.57375\" xlink:href=\"#m75b94f4bd5\" y=\"226.740469\"/>\n      </g>\n     </g>\n     <g id=\"text_3\">\n      <!-- 20 -->\n      <g transform=\"translate(90.21125 241.338906)scale(0.1 -0.1)\">\n       <defs>\n        <path d=\"M 1228 531 \nL 3431 531 \nL 3431 0 \nL 469 0 \nL 469 531 \nQ 828 903 1448 1529 \nQ 2069 2156 2228 2338 \nQ 2531 2678 2651 2914 \nQ 2772 3150 2772 3378 \nQ 2772 3750 2511 3984 \nQ 2250 4219 1831 4219 \nQ 1534 4219 1204 4116 \nQ 875 4013 500 3803 \nL 500 4441 \nQ 881 4594 1212 4672 \nQ 1544 4750 1819 4750 \nQ 2544 4750 2975 4387 \nQ 3406 4025 3406 3419 \nQ 3406 3131 3298 2873 \nQ 3191 2616 2906 2266 \nQ 2828 2175 2409 1742 \nQ 1991 1309 1228 531 \nz\n\" id=\"DejaVuSans-32\" transform=\"scale(0.015625)\"/>\n       </defs>\n       <use xlink:href=\"#DejaVuSans-32\"/>\n       <use x=\"63.623047\" xlink:href=\"#DejaVuSans-30\"/>\n      </g>\n     </g>\n    </g>\n    <g id=\"xtick_4\">\n     <g id=\"line2d_4\">\n      <g>\n       <use style=\"stroke:#000000;stroke-width:0.8;\" x=\"130.54875\" xlink:href=\"#m75b94f4bd5\" y=\"226.740469\"/>\n      </g>\n     </g>\n     <g id=\"text_4\">\n      <!-- 30 -->\n      <g transform=\"translate(124.18625 241.338906)scale(0.1 -0.1)\">\n       <defs>\n        <path d=\"M 2597 2516 \nQ 3050 2419 3304 2112 \nQ 3559 1806 3559 1356 \nQ 3559 666 3084 287 \nQ 2609 -91 1734 -91 \nQ 1441 -91 1130 -33 \nQ 819 25 488 141 \nL 488 750 \nQ 750 597 1062 519 \nQ 1375 441 1716 441 \nQ 2309 441 2620 675 \nQ 2931 909 2931 1356 \nQ 2931 1769 2642 2001 \nQ 2353 2234 1838 2234 \nL 1294 2234 \nL 1294 2753 \nL 1863 2753 \nQ 2328 2753 2575 2939 \nQ 2822 3125 2822 3475 \nQ 2822 3834 2567 4026 \nQ 2313 4219 1838 4219 \nQ 1578 4219 1281 4162 \nQ 984 4106 628 3988 \nL 628 4550 \nQ 988 4650 1302 4700 \nQ 1616 4750 1894 4750 \nQ 2613 4750 3031 4423 \nQ 3450 4097 3450 3541 \nQ 3450 3153 3228 2886 \nQ 3006 2619 2597 2516 \nz\n\" id=\"DejaVuSans-33\" transform=\"scale(0.015625)\"/>\n       </defs>\n       <use xlink:href=\"#DejaVuSans-33\"/>\n       <use x=\"63.623047\" xlink:href=\"#DejaVuSans-30\"/>\n      </g>\n     </g>\n    </g>\n    <g id=\"xtick_5\">\n     <g id=\"line2d_5\">\n      <g>\n       <use style=\"stroke:#000000;stroke-width:0.8;\" x=\"164.52375\" xlink:href=\"#m75b94f4bd5\" y=\"226.740469\"/>\n      </g>\n     </g>\n     <g id=\"text_5\">\n      <!-- 40 -->\n      <g transform=\"translate(158.16125 241.338906)scale(0.1 -0.1)\">\n       <defs>\n        <path d=\"M 2419 4116 \nL 825 1625 \nL 2419 1625 \nL 2419 4116 \nz\nM 2253 4666 \nL 3047 4666 \nL 3047 1625 \nL 3713 1625 \nL 3713 1100 \nL 3047 1100 \nL 3047 0 \nL 2419 0 \nL 2419 1100 \nL 313 1100 \nL 313 1709 \nL 2253 4666 \nz\n\" id=\"DejaVuSans-34\" transform=\"scale(0.015625)\"/>\n       </defs>\n       <use xlink:href=\"#DejaVuSans-34\"/>\n       <use x=\"63.623047\" xlink:href=\"#DejaVuSans-30\"/>\n      </g>\n     </g>\n    </g>\n    <g id=\"xtick_6\">\n     <g id=\"line2d_6\">\n      <g>\n       <use style=\"stroke:#000000;stroke-width:0.8;\" x=\"198.49875\" xlink:href=\"#m75b94f4bd5\" y=\"226.740469\"/>\n      </g>\n     </g>\n     <g id=\"text_6\">\n      <!-- 50 -->\n      <g transform=\"translate(192.13625 241.338906)scale(0.1 -0.1)\">\n       <defs>\n        <path d=\"M 691 4666 \nL 3169 4666 \nL 3169 4134 \nL 1269 4134 \nL 1269 2991 \nQ 1406 3038 1543 3061 \nQ 1681 3084 1819 3084 \nQ 2600 3084 3056 2656 \nQ 3513 2228 3513 1497 \nQ 3513 744 3044 326 \nQ 2575 -91 1722 -91 \nQ 1428 -91 1123 -41 \nQ 819 9 494 109 \nL 494 744 \nQ 775 591 1075 516 \nQ 1375 441 1709 441 \nQ 2250 441 2565 725 \nQ 2881 1009 2881 1497 \nQ 2881 1984 2565 2268 \nQ 2250 2553 1709 2553 \nQ 1456 2553 1204 2497 \nQ 953 2441 691 2322 \nL 691 4666 \nz\n\" id=\"DejaVuSans-35\" transform=\"scale(0.015625)\"/>\n       </defs>\n       <use xlink:href=\"#DejaVuSans-35\"/>\n       <use x=\"63.623047\" xlink:href=\"#DejaVuSans-30\"/>\n      </g>\n     </g>\n    </g>\n    <g id=\"xtick_7\">\n     <g id=\"line2d_7\">\n      <g>\n       <use style=\"stroke:#000000;stroke-width:0.8;\" x=\"232.47375\" xlink:href=\"#m75b94f4bd5\" y=\"226.740469\"/>\n      </g>\n     </g>\n     <g id=\"text_7\">\n      <!-- 60 -->\n      <g transform=\"translate(226.11125 241.338906)scale(0.1 -0.1)\">\n       <defs>\n        <path d=\"M 2113 2584 \nQ 1688 2584 1439 2293 \nQ 1191 2003 1191 1497 \nQ 1191 994 1439 701 \nQ 1688 409 2113 409 \nQ 2538 409 2786 701 \nQ 3034 994 3034 1497 \nQ 3034 2003 2786 2293 \nQ 2538 2584 2113 2584 \nz\nM 3366 4563 \nL 3366 3988 \nQ 3128 4100 2886 4159 \nQ 2644 4219 2406 4219 \nQ 1781 4219 1451 3797 \nQ 1122 3375 1075 2522 \nQ 1259 2794 1537 2939 \nQ 1816 3084 2150 3084 \nQ 2853 3084 3261 2657 \nQ 3669 2231 3669 1497 \nQ 3669 778 3244 343 \nQ 2819 -91 2113 -91 \nQ 1303 -91 875 529 \nQ 447 1150 447 2328 \nQ 447 3434 972 4092 \nQ 1497 4750 2381 4750 \nQ 2619 4750 2861 4703 \nQ 3103 4656 3366 4563 \nz\n\" id=\"DejaVuSans-36\" transform=\"scale(0.015625)\"/>\n       </defs>\n       <use xlink:href=\"#DejaVuSans-36\"/>\n       <use x=\"63.623047\" xlink:href=\"#DejaVuSans-30\"/>\n      </g>\n     </g>\n    </g>\n   </g>\n   <g id=\"matplotlib.axis_2\">\n    <g id=\"ytick_1\">\n     <g id=\"line2d_8\">\n      <defs>\n       <path d=\"M 0 0 \nL -3.5 0 \n\" id=\"m624c119f0c\" style=\"stroke:#000000;stroke-width:0.8;\"/>\n      </defs>\n      <g>\n       <use style=\"stroke:#000000;stroke-width:0.8;\" x=\"26.925\" xlink:href=\"#m624c119f0c\" y=\"10.999219\"/>\n      </g>\n     </g>\n     <g id=\"text_8\">\n      <!-- 0 -->\n      <g transform=\"translate(13.5625 14.798437)scale(0.1 -0.1)\">\n       <use xlink:href=\"#DejaVuSans-30\"/>\n      </g>\n     </g>\n    </g>\n    <g id=\"ytick_2\">\n     <g id=\"line2d_9\">\n      <g>\n       <use style=\"stroke:#000000;stroke-width:0.8;\" x=\"26.925\" xlink:href=\"#m624c119f0c\" y=\"44.974219\"/>\n      </g>\n     </g>\n     <g id=\"text_9\">\n      <!-- 10 -->\n      <g transform=\"translate(7.2 48.773437)scale(0.1 -0.1)\">\n       <use xlink:href=\"#DejaVuSans-31\"/>\n       <use x=\"63.623047\" xlink:href=\"#DejaVuSans-30\"/>\n      </g>\n     </g>\n    </g>\n    <g id=\"ytick_3\">\n     <g id=\"line2d_10\">\n      <g>\n       <use style=\"stroke:#000000;stroke-width:0.8;\" x=\"26.925\" xlink:href=\"#m624c119f0c\" y=\"78.949219\"/>\n      </g>\n     </g>\n     <g id=\"text_10\">\n      <!-- 20 -->\n      <g transform=\"translate(7.2 82.748437)scale(0.1 -0.1)\">\n       <use xlink:href=\"#DejaVuSans-32\"/>\n       <use x=\"63.623047\" xlink:href=\"#DejaVuSans-30\"/>\n      </g>\n     </g>\n    </g>\n    <g id=\"ytick_4\">\n     <g id=\"line2d_11\">\n      <g>\n       <use style=\"stroke:#000000;stroke-width:0.8;\" x=\"26.925\" xlink:href=\"#m624c119f0c\" y=\"112.924219\"/>\n      </g>\n     </g>\n     <g id=\"text_11\">\n      <!-- 30 -->\n      <g transform=\"translate(7.2 116.723437)scale(0.1 -0.1)\">\n       <use xlink:href=\"#DejaVuSans-33\"/>\n       <use x=\"63.623047\" xlink:href=\"#DejaVuSans-30\"/>\n      </g>\n     </g>\n    </g>\n    <g id=\"ytick_5\">\n     <g id=\"line2d_12\">\n      <g>\n       <use style=\"stroke:#000000;stroke-width:0.8;\" x=\"26.925\" xlink:href=\"#m624c119f0c\" y=\"146.899219\"/>\n      </g>\n     </g>\n     <g id=\"text_12\">\n      <!-- 40 -->\n      <g transform=\"translate(7.2 150.698437)scale(0.1 -0.1)\">\n       <use xlink:href=\"#DejaVuSans-34\"/>\n       <use x=\"63.623047\" xlink:href=\"#DejaVuSans-30\"/>\n      </g>\n     </g>\n    </g>\n    <g id=\"ytick_6\">\n     <g id=\"line2d_13\">\n      <g>\n       <use style=\"stroke:#000000;stroke-width:0.8;\" x=\"26.925\" xlink:href=\"#m624c119f0c\" y=\"180.874219\"/>\n      </g>\n     </g>\n     <g id=\"text_13\">\n      <!-- 50 -->\n      <g transform=\"translate(7.2 184.673437)scale(0.1 -0.1)\">\n       <use xlink:href=\"#DejaVuSans-35\"/>\n       <use x=\"63.623047\" xlink:href=\"#DejaVuSans-30\"/>\n      </g>\n     </g>\n    </g>\n    <g id=\"ytick_7\">\n     <g id=\"line2d_14\">\n      <g>\n       <use style=\"stroke:#000000;stroke-width:0.8;\" x=\"26.925\" xlink:href=\"#m624c119f0c\" y=\"214.849219\"/>\n      </g>\n     </g>\n     <g id=\"text_14\">\n      <!-- 60 -->\n      <g transform=\"translate(7.2 218.648437)scale(0.1 -0.1)\">\n       <use xlink:href=\"#DejaVuSans-36\"/>\n       <use x=\"63.623047\" xlink:href=\"#DejaVuSans-30\"/>\n      </g>\n     </g>\n    </g>\n   </g>\n   <g id=\"patch_3\">\n    <path d=\"M 26.925 226.740469 \nL 26.925 9.300469 \n\" style=\"fill:none;stroke:#000000;stroke-linecap:square;stroke-linejoin:miter;stroke-width:0.8;\"/>\n   </g>\n   <g id=\"patch_4\">\n    <path d=\"M 244.365 226.740469 \nL 244.365 9.300469 \n\" style=\"fill:none;stroke:#000000;stroke-linecap:square;stroke-linejoin:miter;stroke-width:0.8;\"/>\n   </g>\n   <g id=\"patch_5\">\n    <path d=\"M 26.925 226.740469 \nL 244.365 226.740469 \n\" style=\"fill:none;stroke:#000000;stroke-linecap:square;stroke-linejoin:miter;stroke-width:0.8;\"/>\n   </g>\n   <g id=\"patch_6\">\n    <path d=\"M 26.925 9.300469 \nL 244.365 9.300469 \n\" style=\"fill:none;stroke:#000000;stroke-linecap:square;stroke-linejoin:miter;stroke-width:0.8;\"/>\n   </g>\n  </g>\n </g>\n <defs>\n  <clipPath id=\"p53e92f161b\">\n   <rect height=\"217.44\" width=\"217.44\" x=\"26.925\" y=\"9.300469\"/>\n  </clipPath>\n </defs>\n</svg>\n",
      "image/png": "[encoded data removed]"
     },
     "metadata": {
      "needs_background": "light"
     }
    }
   ],
   "source": [
    "# Example of a picture\n",
    "index = 25\n",
    "plt.imshow(train_set_x_orig[index])\n",
    "print (\"y = \" + str(train_set_y[:, index]) + \", it's a '\" + classes[np.squeeze(train_set_y[:, index])].decode(\"utf-8\") +  \"' picture.\")"
   ]
  },
  {
   "cell_type": "markdown",
   "metadata": {},
   "source": [
    "Many software bugs in deep learning come from having matrix/vector dimensions that don't fit. If you can keep your matrix/vector dimensions straight you will go a long way toward eliminating many bugs. \n",
    "\n",
    "**Exercise:** Find the values for:\n",
    "    - m_train (number of training examples)\n",
    "    - m_test (number of test examples)\n",
    "    - num_px (= height = width of a training image)\n",
    "Remember that `train_set_x_orig` is a numpy-array of shape (m_train, num_px, num_px, 3). For instance, you can access `m_train` by writing `train_set_x_orig.shape[0]`."
   ]
  },
  {
   "cell_type": "code",
   "execution_count": 4,
   "metadata": {
    "scrolled": true
   },
   "outputs": [
    {
     "output_type": "stream",
     "name": "stdout",
     "text": [
      "Number of training examples: m_train = 209\nNumber of testing examples: m_test = 50\nHeight/Width of each image: num_px = 64\nEach image is of size: (64, 64, 3)\ntrain_set_x shape: (209, 64, 64, 3)\ntrain_set_y shape: (1, 209)\ntest_set_x shape: (50, 64, 64, 3)\ntest_set_y shape: (1, 50)\n"
     ]
    }
   ],
   "source": [
    "### START CODE HERE ### (≈ 3 lines of code)\n",
    "m_train = train_set_x_orig.shape[0]\n",
    "m_test = test_set_x_orig.shape[0]\n",
    "num_px = train_set_x_orig.shape[1]\n",
    "### END CODE HERE ###\n",
    "\n",
    "print (\"Number of training examples: m_train = \" + str(m_train))\n",
    "print (\"Number of testing examples: m_test = \" + str(m_test))\n",
    "print (\"Height/Width of each image: num_px = \" + str(num_px))\n",
    "print (\"Each image is of size: (\" + str(num_px) + \", \" + str(num_px) + \", 3)\")\n",
    "print (\"train_set_x shape: \" + str(train_set_x_orig.shape))\n",
    "print (\"train_set_y shape: \" + str(train_set_y.shape))\n",
    "print (\"test_set_x shape: \" + str(test_set_x_orig.shape))\n",
    "print (\"test_set_y shape: \" + str(test_set_y.shape))"
   ]
  },
  {
   "cell_type": "markdown",
   "metadata": {},
   "source": [
    "**Expected Output for m_train, m_test and num_px**: \n",
    "<table style=\"width:15%\">\n",
    "  <tr>\n",
    "    <td>**m_train**</td>\n",
    "    <td> 209 </td> \n",
    "  </tr>\n",
    "  \n",
    "  <tr>\n",
    "    <td>**m_test**</td>\n",
    "    <td> 50 </td> \n",
    "  </tr>\n",
    "  \n",
    "  <tr>\n",
    "    <td>**num_px**</td>\n",
    "    <td> 64 </td> \n",
    "  </tr>\n",
    "  \n",
    "</table>\n"
   ]
  },
  {
   "cell_type": "markdown",
   "metadata": {},
   "source": [
    "For convenience, you should now reshape images of shape (num_px, num_px, 3) in a numpy-array of shape (num_px $*$ num_px $*$ 3, 1). After this, our training (and test) dataset is a numpy-array where each column represents a flattened image. There should be m_train (respectively m_test) columns.\n",
    "\n",
    "**Exercise:** Reshape the training and test data sets so that images of size (num_px, num_px, 3) are flattened into single vectors of shape (num\\_px $*$ num\\_px $*$ 3, 1).\n",
    "\n",
    "A trick when you want to flatten a matrix X of shape (a,b,c,d) to a matrix X_flatten of shape (b$*$c$*$d, a) is to use: \n",
    "```python\n",
    "X_flatten = X.reshape(X.shape[0], -1).T      # X.T is the transpose of X\n",
    "```"
   ]
  },
  {
   "cell_type": "code",
   "execution_count": 5,
   "metadata": {},
   "outputs": [
    {
     "output_type": "stream",
     "name": "stdout",
     "text": [
      "train_set_x_flatten shape: (12288, 209)\ntrain_set_y shape: (1, 209)\ntest_set_x_flatten shape: (12288, 50)\ntest_set_y shape: (1, 50)\nsanity check after reshaping: [17 31 56 22 33]\n"
     ]
    }
   ],
   "source": [
    "# Reshape the training and test examples\n",
    "\n",
    "### START CODE HERE ### (≈ 2 lines of code)\n",
    "train_set_x_flatten = train_set_x_orig.reshape(m_train, -1).T\n",
    "test_set_x_flatten = test_set_x_orig.reshape(m_test, -1).T\n",
    "### END CODE HERE ###\n",
    "\n",
    "print (\"train_set_x_flatten shape: \" + str(train_set_x_flatten.shape))\n",
    "print (\"train_set_y shape: \" + str(train_set_y.shape))\n",
    "print (\"test_set_x_flatten shape: \" + str(test_set_x_flatten.shape))\n",
    "print (\"test_set_y shape: \" + str(test_set_y.shape))\n",
    "print (\"sanity check after reshaping: \" + str(train_set_x_flatten[0:5,0]))"
   ]
  },
  {
   "cell_type": "markdown",
   "metadata": {},
   "source": [
    "**Expected Output**: \n",
    "\n",
    "<table style=\"width:35%\">\n",
    "  <tr>\n",
    "    <td>**train_set_x_flatten shape**</td>\n",
    "    <td> (12288, 209)</td> \n",
    "  </tr>\n",
    "  <tr>\n",
    "    <td>**train_set_y shape**</td>\n",
    "    <td>(1, 209)</td> \n",
    "  </tr>\n",
    "  <tr>\n",
    "    <td>**test_set_x_flatten shape**</td>\n",
    "    <td>(12288, 50)</td> \n",
    "  </tr>\n",
    "  <tr>\n",
    "    <td>**test_set_y shape**</td>\n",
    "    <td>(1, 50)</td> \n",
    "  </tr>\n",
    "  <tr>\n",
    "  <td>**sanity check after reshaping**</td>\n",
    "  <td>[17 31 56 22 33]</td> \n",
    "  </tr>\n",
    "</table>"
   ]
  },
  {
   "cell_type": "markdown",
   "metadata": {},
   "source": [
    "To represent color images, the red, green and blue channels (RGB) must be specified for each pixel, and so the pixel value is actually a vector of three numbers ranging from 0 to 255.\n",
    "\n",
    "One common preprocessing step in machine learning is to center and standardize your dataset, meaning that you substract the mean of the whole numpy array from each example, and then divide each example by the standard deviation of the whole numpy array. But for picture datasets, it is simpler and more convenient and works almost as well to just divide every row of the dataset by 255 (the maximum value of a pixel channel).\n",
    "\n",
    "<!-- During the training of your model, you're going to multiply weights and add biases to some initial inputs in order to observe neuron activations. Then you backpropogate with the gradients to train the model. But, it is extremely important for each feature to have a similar range such that our gradients don't explode. You will see that more in detail later in the lectures. !--> \n",
    "\n",
    "Let's standardize our dataset."
   ]
  },
  {
   "cell_type": "code",
   "execution_count": 6,
   "metadata": {
    "collapsed": true
   },
   "outputs": [],
   "source": [
    "train_set_x = train_set_x_flatten/255.\n",
    "test_set_x = test_set_x_flatten/255."
   ]
  },
  {
   "cell_type": "markdown",
   "metadata": {},
   "source": [
    "<font color='blue'>\n",
    "**What you need to remember:**\n",
    "\n",
    "Common steps for pre-processing a new dataset are:\n",
    "- Figure out the dimensions and shapes of the problem (m_train, m_test, num_px, ...)\n",
    "- Reshape the datasets such that each example is now a vector of size (num_px \\* num_px \\* 3, 1)\n",
    "- \"Standardize\" the data"
   ]
  },
  {
   "cell_type": "markdown",
   "metadata": {},
   "source": [
    "## 3 - General Architecture of the learning algorithm ##\n",
    "\n",
    "It's time to design a simple algorithm to distinguish cat images from non-cat images.\n",
    "\n",
    "You will build a Logistic Regression, using a Neural Network mindset. The following Figure explains why **Logistic Regression is actually a very simple Neural Network!**\n",
    "\n",
    "<img src=\"images/LogReg_kiank.png\" style=\"width:650px;height:400px;\">\n",
    "\n",
    "**Mathematical expression of the algorithm**:\n",
    "\n",
    "For one example $x^{(i)}$:\n",
    "$$z^{(i)} = w^T x^{(i)} + b \\tag{1}$$\n",
    "$$\\hat{y}^{(i)} = a^{(i)} = sigmoid(z^{(i)})\\tag{2}$$ \n",
    "$$ \\mathcal{L}(a^{(i)}, y^{(i)}) =  - y^{(i)}  \\log(a^{(i)}) - (1-y^{(i)} )  \\log(1-a^{(i)})\\tag{3}$$\n",
    "\n",
    "The cost is then computed by summing over all training examples:\n",
    "$$ J = \\frac{1}{m} \\sum_{i=1}^m \\mathcal{L}(a^{(i)}, y^{(i)})\\tag{6}$$\n",
    "\n",
    "**Key steps**:\n",
    "In this exercise, you will carry out the following steps: \n",
    "    - Initialize the parameters of the model\n",
    "    - Learn the parameters for the model by minimizing the cost  \n",
    "    - Use the learned parameters to make predictions (on the test set)\n",
    "    - Analyse the results and conclude"
   ]
  },
  {
   "cell_type": "markdown",
   "metadata": {},
   "source": [
    "## 4 - Building the parts of our algorithm ## \n",
    "\n",
    "The main steps for building a Neural Network are:\n",
    "1. Define the model structure (such as number of input features) \n",
    "2. Initialize the model's parameters\n",
    "3. Loop:\n",
    "    - Calculate current loss (forward propagation)\n",
    "    - Calculate current gradient (backward propagation)\n",
    "    - Update parameters (gradient descent)\n",
    "\n",
    "You often build 1-3 separately and integrate them into one function we call `model()`.\n",
    "\n",
    "### 4.1 - Helper functions\n",
    "\n",
    "**Exercise**: Using your code from \"Python Basics\", implement `sigmoid()`. As you've seen in the figure above, you need to compute $sigmoid( w^T x + b) = \\frac{1}{1 + e^{-(w^T x + b)}}$ to make predictions. Use np.exp()."
   ]
  },
  {
   "cell_type": "code",
   "execution_count": 7,
   "metadata": {
    "collapsed": true
   },
   "outputs": [],
   "source": [
    "# GRADED FUNCTION: sigmoid\n",
    "\n",
    "def sigmoid(z):\n",
    "    \"\"\"\n",
    "    Compute the sigmoid of z\n",
    "\n",
    "    Arguments:\n",
    "    z -- A scalar or numpy array of any size.\n",
    "\n",
    "    Return:\n",
    "    s -- sigmoid(z)\n",
    "    \"\"\"\n",
    "\n",
    "    ### START CODE HERE ### (≈ 1 line of code)\n",
    "    s = 1 / (1 + np.exp(-z))\n",
    "    ### END CODE HERE ###\n",
    "    \n",
    "    return s"
   ]
  },
  {
   "cell_type": "code",
   "execution_count": 8,
   "metadata": {
    "scrolled": true
   },
   "outputs": [
    {
     "output_type": "stream",
     "name": "stdout",
     "text": [
      "sigmoid([0, 2]) = [0.5        0.88079708]\n"
     ]
    }
   ],
   "source": [
    "print (\"sigmoid([0, 2]) = \" + str(sigmoid(np.array([0,2]))))"
   ]
  },
  {
   "cell_type": "markdown",
   "metadata": {},
   "source": [
    "**Expected Output**: \n",
    "\n",
    "<table>\n",
    "  <tr>\n",
    "    <td>**sigmoid([0, 2])**</td>\n",
    "    <td> [ 0.5         0.88079708]</td> \n",
    "  </tr>\n",
    "</table>"
   ]
  },
  {
   "cell_type": "markdown",
   "metadata": {},
   "source": [
    "### 4.2 - Initializing parameters\n",
    "\n",
    "**Exercise:** Implement parameter initialization in the cell below. You have to initialize w as a vector of zeros. If you don't know what numpy function to use, look up np.zeros() in the Numpy library's documentation."
   ]
  },
  {
   "cell_type": "code",
   "execution_count": 9,
   "metadata": {
    "collapsed": true
   },
   "outputs": [],
   "source": [
    "# GRADED FUNCTION: initialize_with_zeros\n",
    "\n",
    "def initialize_with_zeros(dim):\n",
    "    \"\"\"\n",
    "    This function creates a vector of zeros of shape (dim, 1) for w and initializes b to 0.\n",
    "    \n",
    "    Argument:\n",
    "    dim -- size of the w vector we want (or number of parameters in this case)\n",
    "    \n",
    "    Returns:\n",
    "    w -- initialized vector of shape (dim, 1)\n",
    "    b -- initialized scalar (corresponds to the bias)\n",
    "    \"\"\"\n",
    "    \n",
    "    ### START CODE HERE ### (≈ 1 line of code)\n",
    "    w = np.zeros((dim, 1))\n",
    "    b = 0\n",
    "    ### END CODE HERE ###\n",
    "\n",
    "    assert(w.shape == (dim, 1))\n",
    "    assert(isinstance(b, float) or isinstance(b, int))\n",
    "    \n",
    "    return w, b"
   ]
  },
  {
   "cell_type": "code",
   "execution_count": 10,
   "metadata": {},
   "outputs": [
    {
     "output_type": "stream",
     "name": "stdout",
     "text": [
      "w = [[0.]\n [0.]]\nb = 0\n"
     ]
    }
   ],
   "source": [
    "dim = 2\n",
    "w, b = initialize_with_zeros(dim)\n",
    "print (\"w = \" + str(w))\n",
    "print (\"b = \" + str(b))"
   ]
  },
  {
   "cell_type": "markdown",
   "metadata": {},
   "source": [
    "**Expected Output**: \n",
    "\n",
    "\n",
    "<table style=\"width:15%\">\n",
    "    <tr>\n",
    "        <td>  ** w **  </td>\n",
    "        <td> [[ 0.]\n",
    " [ 0.]] </td>\n",
    "    </tr>\n",
    "    <tr>\n",
    "        <td>  ** b **  </td>\n",
    "        <td> 0 </td>\n",
    "    </tr>\n",
    "</table>\n",
    "\n",
    "For image inputs, w will be of shape (num_px $\\times$ num_px $\\times$ 3, 1)."
   ]
  },
  {
   "cell_type": "markdown",
   "metadata": {},
   "source": [
    "### 4.3 - Forward and Backward propagation\n",
    "\n",
    "Now that your parameters are initialized, you can do the \"forward\" and \"backward\" propagation steps for learning the parameters.\n",
    "\n",
    "**Exercise:** Implement a function `propagate()` that computes the cost function and its gradient.\n",
    "\n",
    "**Hints**:\n",
    "\n",
    "Forward Propagation:\n",
    "- You get X\n",
    "- You compute $A = \\sigma(w^T X + b) = (a^{(1)}, a^{(2)}, ..., a^{(m-1)}, a^{(m)})$\n",
    "- You calculate the cost function: $J = -\\frac{1}{m}\\sum_{i=1}^{m}y^{(i)}\\log(a^{(i)})+(1-y^{(i)})\\log(1-a^{(i)})$\n",
    "\n",
    "Here are the two formulas you will be using: \n",
    "\n",
    "$$ \\frac{\\partial J}{\\partial w} = \\frac{1}{m}X(A-Y)^T\\tag{7}$$\n",
    "$$ \\frac{\\partial J}{\\partial b} = \\frac{1}{m} \\sum_{i=1}^m (a^{(i)}-y^{(i)})\\tag{8}$$"
   ]
  },
  {
   "cell_type": "code",
   "execution_count": 50,
   "metadata": {
    "collapsed": true
   },
   "outputs": [],
   "source": [
    "# GRADED FUNCTION: propagate\n",
    "\n",
    "def propagate(w, b, X, Y):\n",
    "    \"\"\"\n",
    "    Implement the cost function and its gradient for the propagation explained above\n",
    "\n",
    "    Arguments:\n",
    "    w -- weights, a numpy array of size (num_px * num_px * 3, 1)\n",
    "    b -- bias, a scalar\n",
    "    X -- data of size (num_px * num_px * 3, number of examples)\n",
    "    Y -- true \"label\" vector (containing 0 if non-cat, 1 if cat) of size (1, number of examples)\n",
    "\n",
    "    Return:\n",
    "    cost -- negative log-likelihood cost for logistic regression\n",
    "    dw -- gradient of the loss with respect to w, thus same shape as w\n",
    "    db -- gradient of the loss with respect to b, thus same shape as b\n",
    "    \n",
    "    Tips:\n",
    "    - Write your code step by step for the propagation. np.log(), np.dot()\n",
    "    \"\"\"\n",
    "    \n",
    "    m = X.shape[1]\n",
    "    \n",
    "    # FORWARD PROPAGATION (FROM X TO COST)\n",
    "    ### START CODE HERE ### (≈ 2 lines of code)\n",
    "    Z = np.dot(w.T, X) + b\n",
    "    A = sigmoid(Z)\n",
    "    L = - (Y*np.log(A) + (1 - Y)*np.log(1 - A))\n",
    "    cost = J = (1 / m) * np.sum(L, keepdims=True)\n",
    "    ### END CODE HERE ###\n",
    "    \n",
    "    # BACKWARD PROPAGATION (TO FIND GRAD)\n",
    "    ### START CODE HERE ### (≈ 2 lines of code)\n",
    "    dz = A - Y\n",
    "    dw = np.dot(X, dz.T) / m\n",
    "    db = np.sum(dz, keepdims=True) / m\n",
    "    ### END CODE HERE ###\n",
    "\n",
    "    assert(dw.shape == w.shape)\n",
    "    assert(db.dtype == float)\n",
    "    cost = np.squeeze(cost)\n",
    "    assert(cost.shape == ())\n",
    "    \n",
    "    grads = {\"dw\": dw,\n",
    "             \"db\": db}\n",
    "    \n",
    "    return grads, cost"
   ]
  },
  {
   "cell_type": "code",
   "execution_count": 14,
   "metadata": {},
   "outputs": [
    {
     "output_type": "stream",
     "name": "stdout",
     "text": [
      "dw = [[0.99845601]\n [2.39507239]]\ndb = [[0.00145558]]\ncost = 5.801545319394553\n"
     ]
    }
   ],
   "source": [
    "w, b, X, Y = np.array([[1.],[2.]]), 2., np.array([[1.,2.,-1.],[3.,4.,-3.2]]), np.array([[1,0,1]])\n",
    "grads, cost = propagate(w, b, X, Y)\n",
    "print (\"dw = \" + str(grads[\"dw\"]))\n",
    "print (\"db = \" + str(grads[\"db\"]))\n",
    "print (\"cost = \" + str(cost))"
   ]
  },
  {
   "cell_type": "markdown",
   "metadata": {},
   "source": [
    "**Expected Output**:\n",
    "\n",
    "<table style=\"width:50%\">\n",
    "    <tr>\n",
    "        <td>  ** dw **  </td>\n",
    "      <td> [[ 0.99845601]\n",
    "     [ 2.39507239]]</td>\n",
    "    </tr>\n",
    "    <tr>\n",
    "        <td>  ** db **  </td>\n",
    "        <td> 0.00145557813678 </td>\n",
    "    </tr>\n",
    "    <tr>\n",
    "        <td>  ** cost **  </td>\n",
    "        <td> 5.801545319394553 </td>\n",
    "    </tr>\n",
    "\n",
    "</table>"
   ]
  },
  {
   "cell_type": "markdown",
   "metadata": {},
   "source": [
    "### 4.4 - Optimization\n",
    "- You have initialized your parameters.\n",
    "- You are also able to compute a cost function and its gradient.\n",
    "- Now, you want to update the parameters using gradient descent.\n",
    "\n",
    "**Exercise:** Write down the optimization function. The goal is to learn $w$ and $b$ by minimizing the cost function $J$. For a parameter $\\theta$, the update rule is $ \\theta = \\theta - \\alpha \\text{ } d\\theta$, where $\\alpha$ is the learning rate."
   ]
  },
  {
   "cell_type": "code",
   "execution_count": 15,
   "metadata": {
    "collapsed": true
   },
   "outputs": [],
   "source": [
    "# GRADED FUNCTION: optimize\n",
    "\n",
    "def optimize(w, b, X, Y, num_iterations, learning_rate, print_cost = False):\n",
    "    \"\"\"\n",
    "    This function optimizes w and b by running a gradient descent algorithm\n",
    "    \n",
    "    Arguments:\n",
    "    w -- weights, a numpy array of size (num_px * num_px * 3, 1)\n",
    "    b -- bias, a scalar\n",
    "    X -- data of shape (num_px * num_px * 3, number of examples)\n",
    "    Y -- true \"label\" vector (containing 0 if non-cat, 1 if cat), of shape (1, number of examples)\n",
    "    num_iterations -- number of iterations of the optimization loop\n",
    "    learning_rate -- learning rate of the gradient descent update rule\n",
    "    print_cost -- True to print the loss every 100 steps\n",
    "    \n",
    "    Returns:\n",
    "    params -- dictionary containing the weights w and bias b\n",
    "    grads -- dictionary containing the gradients of the weights and bias with respect to the cost function\n",
    "    costs -- list of all the costs computed during the optimization, this will be used to plot the learning curve.\n",
    "    \n",
    "    Tips:\n",
    "    You basically need to write down two steps and iterate through them:\n",
    "        1) Calculate the cost and the gradient for the current parameters. Use propagate().\n",
    "        2) Update the parameters using gradient descent rule for w and b.\n",
    "    \"\"\"\n",
    "    \n",
    "    costs = []\n",
    "    \n",
    "    for i in range(num_iterations):\n",
    "        \n",
    "        \n",
    "        # Cost and gradient calculation (≈ 1-4 lines of code)\n",
    "        ### START CODE HERE ###\n",
    "        grads, cost = propagate(w, b, X, Y)\n",
    "        ### END CODE HERE ###\n",
    "        \n",
    "        # Retrieve derivatives from grads\n",
    "        dw = grads[\"dw\"]\n",
    "        db = grads[\"db\"]\n",
    "        \n",
    "        # update rule (≈ 2 lines of code)\n",
    "        ### START CODE HERE ###\n",
    "        w = w - learning_rate * dw\n",
    "        b = b - learning_rate * db\n",
    "        ### END CODE HERE ###\n",
    "        \n",
    "        # Record the costs\n",
    "        if i % 100 == 0:\n",
    "            costs.append(cost)\n",
    "        \n",
    "        # Print the cost every 100 training iterations\n",
    "        if print_cost and i % 100 == 0:\n",
    "            print (\"Cost after iteration %i: %f\" %(i, cost))\n",
    "    \n",
    "    params = {\"w\": w,\n",
    "              \"b\": b}\n",
    "    \n",
    "    grads = {\"dw\": dw,\n",
    "             \"db\": db}\n",
    "    \n",
    "    return params, grads, costs"
   ]
  },
  {
   "cell_type": "code",
   "execution_count": 16,
   "metadata": {},
   "outputs": [
    {
     "output_type": "stream",
     "name": "stdout",
     "text": [
      "w = [[0.19033591]\n [0.12259159]]\nb = [[1.92535983]]\ndw = [[0.67752042]\n [1.41625495]]\ndb = [[0.2191945]]\n"
     ]
    }
   ],
   "source": [
    "params, grads, costs = optimize(w, b, X, Y, num_iterations= 100, learning_rate = 0.009, print_cost = False)\n",
    "\n",
    "print (\"w = \" + str(params[\"w\"]))\n",
    "print (\"b = \" + str(params[\"b\"]))\n",
    "print (\"dw = \" + str(grads[\"dw\"]))\n",
    "print (\"db = \" + str(grads[\"db\"]))"
   ]
  },
  {
   "cell_type": "markdown",
   "metadata": {},
   "source": [
    "**Expected Output**: \n",
    "\n",
    "<table style=\"width:40%\">\n",
    "    <tr>\n",
    "       <td> **w** </td>\n",
    "       <td>[[ 0.19033591]\n",
    " [ 0.12259159]] </td>\n",
    "    </tr>\n",
    "    \n",
    "    <tr>\n",
    "       <td> **b** </td>\n",
    "       <td> 1.92535983008 </td>\n",
    "    </tr>\n",
    "    <tr>\n",
    "       <td> **dw** </td>\n",
    "       <td> [[ 0.67752042]\n",
    " [ 1.41625495]] </td>\n",
    "    </tr>\n",
    "    <tr>\n",
    "       <td> **db** </td>\n",
    "       <td> 0.219194504541 </td>\n",
    "    </tr>\n",
    "\n",
    "</table>"
   ]
  },
  {
   "cell_type": "markdown",
   "metadata": {},
   "source": [
    "**Exercise:** The previous function will output the learned w and b. We are able to use w and b to predict the labels for a dataset X. Implement the `predict()` function. There are two steps to computing predictions:\n",
    "\n",
    "1. Calculate $\\hat{Y} = A = \\sigma(w^T X + b)$\n",
    "\n",
    "2. Convert the entries of a into 0 (if activation <= 0.5) or 1 (if activation > 0.5), stores the predictions in a vector `Y_prediction`. If you wish, you can use an `if`/`else` statement in a `for` loop (though there is also a way to vectorize this). "
   ]
  },
  {
   "cell_type": "code",
   "execution_count": 65,
   "metadata": {
    "collapsed": true
   },
   "outputs": [],
   "source": [
    "# GRADED FUNCTION: predict\n",
    "\n",
    "def predict(w, b, X):\n",
    "    '''\n",
    "    Predict whether the label is 0 or 1 using learned logistic regression parameters (w, b)\n",
    "    \n",
    "    Arguments:\n",
    "    w -- weights, a numpy array of size (num_px * num_px * 3, 1)\n",
    "    b -- bias, a scalar\n",
    "    X -- data of size (num_px * num_px * 3, number of examples)\n",
    "    \n",
    "    Returns:\n",
    "    Y_prediction -- a numpy array (vector) containing all predictions (0/1) for the examples in X\n",
    "    '''\n",
    "    \n",
    "    m = X.shape[1]\n",
    "    Y_prediction = np.zeros((1,m), dtype=np.int8)\n",
    "    w = w.reshape(X.shape[0], 1)\n",
    "    \n",
    "    # Compute vector \"A\" predicting the probabilities of a cat being present in the picture\n",
    "    ### START CODE HERE ### (≈ 1 line of code)\n",
    "    Z = np.dot(w.T, X) + b\n",
    "    A = sigmoid(Z)\n",
    "    ### END CODE HERE ###\n",
    "    \n",
    "    for i in range(A.shape[1]):\n",
    "        \n",
    "        # Convert probabilities A[0,i] to actual predictions p[0,i]\n",
    "        ### START CODE HERE ### (≈ 4 lines of code)\n",
    "        Y_prediction[0][i] = 1 if A[0][i] > 0.5 else 0\n",
    "        ### END CODE HERE ###\n",
    "\n",
    "    # Y_prediction = A > 0.5\n",
    "    \n",
    "    assert(Y_prediction.shape == (1, m))\n",
    "    \n",
    "    return Y_prediction"
   ]
  },
  {
   "cell_type": "code",
   "execution_count": 66,
   "metadata": {},
   "outputs": [
    {
     "output_type": "stream",
     "name": "stdout",
     "text": [
      "predictions = [[1 1 0]]\n"
     ]
    }
   ],
   "source": [
    "w = np.array([[0.1124579],[0.23106775]])\n",
    "b = -0.3\n",
    "X = np.array([[1.,-1.1,-3.2],[1.2,2.,0.1]])\n",
    "print (\"predictions = \" + str(predict(w, b, X)))"
   ]
  },
  {
   "cell_type": "markdown",
   "metadata": {},
   "source": [
    "**Expected Output**: \n",
    "\n",
    "<table style=\"width:30%\">\n",
    "    <tr>\n",
    "         <td>\n",
    "             **predictions**\n",
    "         </td>\n",
    "          <td>\n",
    "            [[ 1.  1.  0.]]\n",
    "         </td>  \n",
    "   </tr>\n",
    "\n",
    "</table>\n"
   ]
  },
  {
   "cell_type": "markdown",
   "metadata": {},
   "source": [
    "<font color='blue'>\n",
    "**What to remember:**\n",
    "You've implemented several functions that:\n",
    "- Initialize (w,b)\n",
    "- Optimize the loss iteratively to learn parameters (w,b):\n",
    "    - computing the cost and its gradient \n",
    "    - updating the parameters using gradient descent\n",
    "- Use the learned (w,b) to predict the labels for a given set of examples"
   ]
  },
  {
   "cell_type": "markdown",
   "metadata": {},
   "source": [
    "## 5 - Merge all functions into a model ##\n",
    "\n",
    "You will now see how the overall model is structured by putting together all the building blocks (functions implemented in the previous parts) together, in the right order.\n",
    "\n",
    "**Exercise:** Implement the model function. Use the following notation:\n",
    "    - Y_prediction_test for your predictions on the test set\n",
    "    - Y_prediction_train for your predictions on the train set\n",
    "    - w, costs, grads for the outputs of optimize()"
   ]
  },
  {
   "cell_type": "code",
   "execution_count": 67,
   "metadata": {
    "collapsed": true
   },
   "outputs": [],
   "source": [
    "# GRADED FUNCTION: model\n",
    "\n",
    "def model(X_train, Y_train, X_test, Y_test, num_iterations = 2000, learning_rate = 0.5, print_cost = False):\n",
    "    \"\"\"\n",
    "    Builds the logistic regression model by calling the function you've implemented previously\n",
    "    \n",
    "    Arguments:\n",
    "    X_train -- training set represented by a numpy array of shape (num_px * num_px * 3, m_train)\n",
    "    Y_train -- training labels represented by a numpy array (vector) of shape (1, m_train)\n",
    "    X_test -- test set represented by a numpy array of shape (num_px * num_px * 3, m_test)\n",
    "    Y_test -- test labels represented by a numpy array (vector) of shape (1, m_test)\n",
    "    num_iterations -- hyperparameter representing the number of iterations to optimize the parameters\n",
    "    learning_rate -- hyperparameter representing the learning rate used in the update rule of optimize()\n",
    "    print_cost -- Set to true to print the cost every 100 iterations\n",
    "    \n",
    "    Returns:\n",
    "    d -- dictionary containing information about the model.\n",
    "    \"\"\"\n",
    "    \n",
    "    ### START CODE HERE ###\n",
    "    # initialize parameters with zeros (≈ 1 line of code)\n",
    "    w, b = initialize_with_zeros(X_train.shape[0])\n",
    "\n",
    "    # Gradient descent (≈ 1 line of code)\n",
    "    parameters, grads, costs = optimize(w, b, X_train, Y_train, num_iterations, learning_rate, print_cost = print_cost)\n",
    "\n",
    "    # Retrieve parameters w and b from dictionary \"parameters\"\n",
    "    w = parameters[\"w\"]\n",
    "    b = parameters[\"b\"]\n",
    "\n",
    "    # Predict test/train set examples (≈ 2 lines of code)\n",
    "    Y_prediction_test = predict(w, b, X_test)\n",
    "    Y_prediction_train = predict(w, b, X_train)\n",
    "    ### END CODE HERE ###\n",
    "\n",
    "    # Print train/test Errors\n",
    "    print(\"train accuracy: {} %\".format(100 - np.mean(np.abs(Y_prediction_train - Y_train)) * 100))\n",
    "    print(\"test accuracy: {} %\".format(100 - np.mean(np.abs(Y_prediction_test - Y_test)) * 100))\n",
    "\n",
    "    \n",
    "    d = {\"costs\": costs,\n",
    "         \"Y_prediction_test\": Y_prediction_test, \n",
    "         \"Y_prediction_train\" : Y_prediction_train, \n",
    "         \"w\" : w, \n",
    "         \"b\" : b,\n",
    "         \"learning_rate\" : learning_rate,\n",
    "         \"num_iterations\": num_iterations}\n",
    "    \n",
    "    return d"
   ]
  },
  {
   "cell_type": "markdown",
   "metadata": {},
   "source": [
    "Run the following cell to train your model."
   ]
  },
  {
   "cell_type": "code",
   "execution_count": 68,
   "metadata": {
    "tags": []
   },
   "outputs": [
    {
     "output_type": "stream",
     "name": "stdout",
     "text": [
      "train accuracy: 99.04306220095694 %\ntest accuracy: 70.0 %\n"
     ]
    }
   ],
   "source": [
    "d = model(train_set_x, train_set_y, test_set_x, test_set_y, num_iterations = 2000, learning_rate = 0.005, print_cost = False)"
   ]
  },
  {
   "cell_type": "markdown",
   "metadata": {},
   "source": [
    "**Expected Output**: \n",
    "\n",
    "<table style=\"width:40%\"> \n",
    "\n",
    "    <tr>\n",
    "        <td> **Cost after iteration 0 **  </td> \n",
    "        <td> 0.693147 </td>\n",
    "    </tr>\n",
    "      <tr>\n",
    "        <td> <center> $\\vdots$ </center> </td> \n",
    "        <td> <center> $\\vdots$ </center> </td> \n",
    "    </tr>  \n",
    "    <tr>\n",
    "        <td> **Train Accuracy**  </td> \n",
    "        <td> 99.04306220095694 % </td>\n",
    "    </tr>\n",
    "\n",
    "    <tr>\n",
    "        <td>**Test Accuracy** </td> \n",
    "        <td> 70.0 % </td>\n",
    "    </tr>\n",
    "</table> \n",
    "\n",
    "\n"
   ]
  },
  {
   "cell_type": "markdown",
   "metadata": {},
   "source": [
    "**Comment**: Training accuracy is close to 100%. This is a good sanity check: your model is working and has high enough capacity to fit the training data. Test accuracy is 68%. It is actually not bad for this simple model, given the small dataset we used and that logistic regression is a linear classifier. But no worries, you'll build an even better classifier next week!\n",
    "\n",
    "Also, you see that the model is clearly overfitting the training data. Later in this specialization you will learn how to reduce overfitting, for example by using regularization. Using the code below (and changing the `index` variable) you can look at predictions on pictures of the test set."
   ]
  },
  {
   "cell_type": "code",
   "execution_count": 72,
   "metadata": {},
   "outputs": [
    {
     "output_type": "stream",
     "name": "stdout",
     "text": [
      "y = 1, you predicted that it is a \"non-cat\" picture.\n"
     ]
    },
    {
     "output_type": "display_data",
     "data": {
      "text/plain": "<Figure size 432x288 with 1 Axes>",
      "image/svg+xml": "<?xml version=\"1.0\" encoding=\"utf-8\" standalone=\"no\"?>\n<!DOCTYPE svg PUBLIC \"-//W3C//DTD SVG 1.1//EN\"\n  \"http://www.w3.org/Graphics/SVG/1.1/DTD/svg11.dtd\">\n<svg height=\"250.618594pt\" version=\"1.1\" viewBox=\"0 0 251.565 250.618594\" width=\"251.565pt\" xmlns=\"http://www.w3.org/2000/svg\" xmlns:xlink=\"http://www.w3.org/1999/xlink\">\n <metadata>\n  <rdf:RDF xmlns:cc=\"http://creativecommons.org/ns#\" xmlns:dc=\"http://purl.org/dc/elements/1.1/\" xmlns:rdf=\"http://www.w3.org/1999/02/22-rdf-syntax-ns#\">\n   <cc:Work>\n    <dc:type rdf:resource=\"http://purl.org/dc/dcmitype/StillImage\"/>\n    <dc:date>2021-04-12T06:51:48.401510</dc:date>\n    <dc:format>image/svg+xml</dc:format>\n    <dc:creator>\n     <cc:Agent>\n      <dc:title>Matplotlib v3.4.1, https://matplotlib.org/</dc:title>\n     </cc:Agent>\n    </dc:creator>\n   </cc:Work>\n  </rdf:RDF>\n </metadata>\n <defs>\n  <style type=\"text/css\">*{stroke-linecap:butt;stroke-linejoin:round;}</style>\n </defs>\n <g id=\"figure_1\">\n  <g id=\"patch_1\">\n   <path d=\"M 0 250.618594 \nL 251.565 250.618594 \nL 251.565 0 \nL 0 0 \nz\n\" style=\"fill:none;\"/>\n  </g>\n  <g id=\"axes_1\">\n   <g id=\"patch_2\">\n    <path d=\"M 26.925 226.740469 \nL 244.365 226.740469 \nL 244.365 9.300469 \nL 26.925 9.300469 \nz\n\" style=\"fill:#ffffff;\"/>\n   </g>\n   <g clip-path=\"url(#pe9c405671e)\">\n    <image height=\"218\" id=\"image4700ff8b9b\" transform=\"scale(1 -1)translate(0 -218)\" width=\"218\" x=\"26.925\" xlink:href=\"data:image/png;base64,\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\" y=\"-8.740469\"/>\n   </g>\n   <g id=\"matplotlib.axis_1\">\n    <g id=\"xtick_1\">\n     <g id=\"line2d_1\">\n      <defs>\n       <path d=\"M 0 0 \nL 0 3.5 \n\" id=\"m15150ad994\" style=\"stroke:#000000;stroke-width:0.8;\"/>\n      </defs>\n      <g>\n       <use style=\"stroke:#000000;stroke-width:0.8;\" x=\"28.62375\" xlink:href=\"#m15150ad994\" y=\"226.740469\"/>\n      </g>\n     </g>\n     <g id=\"text_1\">\n      <!-- 0 -->\n      <g transform=\"translate(25.4425 241.338906)scale(0.1 -0.1)\">\n       <defs>\n        <path d=\"M 2034 4250 \nQ 1547 4250 1301 3770 \nQ 1056 3291 1056 2328 \nQ 1056 1369 1301 889 \nQ 1547 409 2034 409 \nQ 2525 409 2770 889 \nQ 3016 1369 3016 2328 \nQ 3016 3291 2770 3770 \nQ 2525 4250 2034 4250 \nz\nM 2034 4750 \nQ 2819 4750 3233 4129 \nQ 3647 3509 3647 2328 \nQ 3647 1150 3233 529 \nQ 2819 -91 2034 -91 \nQ 1250 -91 836 529 \nQ 422 1150 422 2328 \nQ 422 3509 836 4129 \nQ 1250 4750 2034 4750 \nz\n\" id=\"DejaVuSans-30\" transform=\"scale(0.015625)\"/>\n       </defs>\n       <use xlink:href=\"#DejaVuSans-30\"/>\n      </g>\n     </g>\n    </g>\n    <g id=\"xtick_2\">\n     <g id=\"line2d_2\">\n      <g>\n       <use style=\"stroke:#000000;stroke-width:0.8;\" x=\"62.59875\" xlink:href=\"#m15150ad994\" y=\"226.740469\"/>\n      </g>\n     </g>\n     <g id=\"text_2\">\n      <!-- 10 -->\n      <g transform=\"translate(56.23625 241.338906)scale(0.1 -0.1)\">\n       <defs>\n        <path d=\"M 794 531 \nL 1825 531 \nL 1825 4091 \nL 703 3866 \nL 703 4441 \nL 1819 4666 \nL 2450 4666 \nL 2450 531 \nL 3481 531 \nL 3481 0 \nL 794 0 \nL 794 531 \nz\n\" id=\"DejaVuSans-31\" transform=\"scale(0.015625)\"/>\n       </defs>\n       <use xlink:href=\"#DejaVuSans-31\"/>\n       <use x=\"63.623047\" xlink:href=\"#DejaVuSans-30\"/>\n      </g>\n     </g>\n    </g>\n    <g id=\"xtick_3\">\n     <g id=\"line2d_3\">\n      <g>\n       <use style=\"stroke:#000000;stroke-width:0.8;\" x=\"96.57375\" xlink:href=\"#m15150ad994\" y=\"226.740469\"/>\n      </g>\n     </g>\n     <g id=\"text_3\">\n      <!-- 20 -->\n      <g transform=\"translate(90.21125 241.338906)scale(0.1 -0.1)\">\n       <defs>\n        <path d=\"M 1228 531 \nL 3431 531 \nL 3431 0 \nL 469 0 \nL 469 531 \nQ 828 903 1448 1529 \nQ 2069 2156 2228 2338 \nQ 2531 2678 2651 2914 \nQ 2772 3150 2772 3378 \nQ 2772 3750 2511 3984 \nQ 2250 4219 1831 4219 \nQ 1534 4219 1204 4116 \nQ 875 4013 500 3803 \nL 500 4441 \nQ 881 4594 1212 4672 \nQ 1544 4750 1819 4750 \nQ 2544 4750 2975 4387 \nQ 3406 4025 3406 3419 \nQ 3406 3131 3298 2873 \nQ 3191 2616 2906 2266 \nQ 2828 2175 2409 1742 \nQ 1991 1309 1228 531 \nz\n\" id=\"DejaVuSans-32\" transform=\"scale(0.015625)\"/>\n       </defs>\n       <use xlink:href=\"#DejaVuSans-32\"/>\n       <use x=\"63.623047\" xlink:href=\"#DejaVuSans-30\"/>\n      </g>\n     </g>\n    </g>\n    <g id=\"xtick_4\">\n     <g id=\"line2d_4\">\n      <g>\n       <use style=\"stroke:#000000;stroke-width:0.8;\" x=\"130.54875\" xlink:href=\"#m15150ad994\" y=\"226.740469\"/>\n      </g>\n     </g>\n     <g id=\"text_4\">\n      <!-- 30 -->\n      <g transform=\"translate(124.18625 241.338906)scale(0.1 -0.1)\">\n       <defs>\n        <path d=\"M 2597 2516 \nQ 3050 2419 3304 2112 \nQ 3559 1806 3559 1356 \nQ 3559 666 3084 287 \nQ 2609 -91 1734 -91 \nQ 1441 -91 1130 -33 \nQ 819 25 488 141 \nL 488 750 \nQ 750 597 1062 519 \nQ 1375 441 1716 441 \nQ 2309 441 2620 675 \nQ 2931 909 2931 1356 \nQ 2931 1769 2642 2001 \nQ 2353 2234 1838 2234 \nL 1294 2234 \nL 1294 2753 \nL 1863 2753 \nQ 2328 2753 2575 2939 \nQ 2822 3125 2822 3475 \nQ 2822 3834 2567 4026 \nQ 2313 4219 1838 4219 \nQ 1578 4219 1281 4162 \nQ 984 4106 628 3988 \nL 628 4550 \nQ 988 4650 1302 4700 \nQ 1616 4750 1894 4750 \nQ 2613 4750 3031 4423 \nQ 3450 4097 3450 3541 \nQ 3450 3153 3228 2886 \nQ 3006 2619 2597 2516 \nz\n\" id=\"DejaVuSans-33\" transform=\"scale(0.015625)\"/>\n       </defs>\n       <use xlink:href=\"#DejaVuSans-33\"/>\n       <use x=\"63.623047\" xlink:href=\"#DejaVuSans-30\"/>\n      </g>\n     </g>\n    </g>\n    <g id=\"xtick_5\">\n     <g id=\"line2d_5\">\n      <g>\n       <use style=\"stroke:#000000;stroke-width:0.8;\" x=\"164.52375\" xlink:href=\"#m15150ad994\" y=\"226.740469\"/>\n      </g>\n     </g>\n     <g id=\"text_5\">\n      <!-- 40 -->\n      <g transform=\"translate(158.16125 241.338906)scale(0.1 -0.1)\">\n       <defs>\n        <path d=\"M 2419 4116 \nL 825 1625 \nL 2419 1625 \nL 2419 4116 \nz\nM 2253 4666 \nL 3047 4666 \nL 3047 1625 \nL 3713 1625 \nL 3713 1100 \nL 3047 1100 \nL 3047 0 \nL 2419 0 \nL 2419 1100 \nL 313 1100 \nL 313 1709 \nL 2253 4666 \nz\n\" id=\"DejaVuSans-34\" transform=\"scale(0.015625)\"/>\n       </defs>\n       <use xlink:href=\"#DejaVuSans-34\"/>\n       <use x=\"63.623047\" xlink:href=\"#DejaVuSans-30\"/>\n      </g>\n     </g>\n    </g>\n    <g id=\"xtick_6\">\n     <g id=\"line2d_6\">\n      <g>\n       <use style=\"stroke:#000000;stroke-width:0.8;\" x=\"198.49875\" xlink:href=\"#m15150ad994\" y=\"226.740469\"/>\n      </g>\n     </g>\n     <g id=\"text_6\">\n      <!-- 50 -->\n      <g transform=\"translate(192.13625 241.338906)scale(0.1 -0.1)\">\n       <defs>\n        <path d=\"M 691 4666 \nL 3169 4666 \nL 3169 4134 \nL 1269 4134 \nL 1269 2991 \nQ 1406 3038 1543 3061 \nQ 1681 3084 1819 3084 \nQ 2600 3084 3056 2656 \nQ 3513 2228 3513 1497 \nQ 3513 744 3044 326 \nQ 2575 -91 1722 -91 \nQ 1428 -91 1123 -41 \nQ 819 9 494 109 \nL 494 744 \nQ 775 591 1075 516 \nQ 1375 441 1709 441 \nQ 2250 441 2565 725 \nQ 2881 1009 2881 1497 \nQ 2881 1984 2565 2268 \nQ 2250 2553 1709 2553 \nQ 1456 2553 1204 2497 \nQ 953 2441 691 2322 \nL 691 4666 \nz\n\" id=\"DejaVuSans-35\" transform=\"scale(0.015625)\"/>\n       </defs>\n       <use xlink:href=\"#DejaVuSans-35\"/>\n       <use x=\"63.623047\" xlink:href=\"#DejaVuSans-30\"/>\n      </g>\n     </g>\n    </g>\n    <g id=\"xtick_7\">\n     <g id=\"line2d_7\">\n      <g>\n       <use style=\"stroke:#000000;stroke-width:0.8;\" x=\"232.47375\" xlink:href=\"#m15150ad994\" y=\"226.740469\"/>\n      </g>\n     </g>\n     <g id=\"text_7\">\n      <!-- 60 -->\n      <g transform=\"translate(226.11125 241.338906)scale(0.1 -0.1)\">\n       <defs>\n        <path d=\"M 2113 2584 \nQ 1688 2584 1439 2293 \nQ 1191 2003 1191 1497 \nQ 1191 994 1439 701 \nQ 1688 409 2113 409 \nQ 2538 409 2786 701 \nQ 3034 994 3034 1497 \nQ 3034 2003 2786 2293 \nQ 2538 2584 2113 2584 \nz\nM 3366 4563 \nL 3366 3988 \nQ 3128 4100 2886 4159 \nQ 2644 4219 2406 4219 \nQ 1781 4219 1451 3797 \nQ 1122 3375 1075 2522 \nQ 1259 2794 1537 2939 \nQ 1816 3084 2150 3084 \nQ 2853 3084 3261 2657 \nQ 3669 2231 3669 1497 \nQ 3669 778 3244 343 \nQ 2819 -91 2113 -91 \nQ 1303 -91 875 529 \nQ 447 1150 447 2328 \nQ 447 3434 972 4092 \nQ 1497 4750 2381 4750 \nQ 2619 4750 2861 4703 \nQ 3103 4656 3366 4563 \nz\n\" id=\"DejaVuSans-36\" transform=\"scale(0.015625)\"/>\n       </defs>\n       <use xlink:href=\"#DejaVuSans-36\"/>\n       <use x=\"63.623047\" xlink:href=\"#DejaVuSans-30\"/>\n      </g>\n     </g>\n    </g>\n   </g>\n   <g id=\"matplotlib.axis_2\">\n    <g id=\"ytick_1\">\n     <g id=\"line2d_8\">\n      <defs>\n       <path d=\"M 0 0 \nL -3.5 0 \n\" id=\"m41f9c9f5e1\" style=\"stroke:#000000;stroke-width:0.8;\"/>\n      </defs>\n      <g>\n       <use style=\"stroke:#000000;stroke-width:0.8;\" x=\"26.925\" xlink:href=\"#m41f9c9f5e1\" y=\"10.999219\"/>\n      </g>\n     </g>\n     <g id=\"text_8\">\n      <!-- 0 -->\n      <g transform=\"translate(13.5625 14.798437)scale(0.1 -0.1)\">\n       <use xlink:href=\"#DejaVuSans-30\"/>\n      </g>\n     </g>\n    </g>\n    <g id=\"ytick_2\">\n     <g id=\"line2d_9\">\n      <g>\n       <use style=\"stroke:#000000;stroke-width:0.8;\" x=\"26.925\" xlink:href=\"#m41f9c9f5e1\" y=\"44.974219\"/>\n      </g>\n     </g>\n     <g id=\"text_9\">\n      <!-- 10 -->\n      <g transform=\"translate(7.2 48.773437)scale(0.1 -0.1)\">\n       <use xlink:href=\"#DejaVuSans-31\"/>\n       <use x=\"63.623047\" xlink:href=\"#DejaVuSans-30\"/>\n      </g>\n     </g>\n    </g>\n    <g id=\"ytick_3\">\n     <g id=\"line2d_10\">\n      <g>\n       <use style=\"stroke:#000000;stroke-width:0.8;\" x=\"26.925\" xlink:href=\"#m41f9c9f5e1\" y=\"78.949219\"/>\n      </g>\n     </g>\n     <g id=\"text_10\">\n      <!-- 20 -->\n      <g transform=\"translate(7.2 82.748437)scale(0.1 -0.1)\">\n       <use xlink:href=\"#DejaVuSans-32\"/>\n       <use x=\"63.623047\" xlink:href=\"#DejaVuSans-30\"/>\n      </g>\n     </g>\n    </g>\n    <g id=\"ytick_4\">\n     <g id=\"line2d_11\">\n      <g>\n       <use style=\"stroke:#000000;stroke-width:0.8;\" x=\"26.925\" xlink:href=\"#m41f9c9f5e1\" y=\"112.924219\"/>\n      </g>\n     </g>\n     <g id=\"text_11\">\n      <!-- 30 -->\n      <g transform=\"translate(7.2 116.723437)scale(0.1 -0.1)\">\n       <use xlink:href=\"#DejaVuSans-33\"/>\n       <use x=\"63.623047\" xlink:href=\"#DejaVuSans-30\"/>\n      </g>\n     </g>\n    </g>\n    <g id=\"ytick_5\">\n     <g id=\"line2d_12\">\n      <g>\n       <use style=\"stroke:#000000;stroke-width:0.8;\" x=\"26.925\" xlink:href=\"#m41f9c9f5e1\" y=\"146.899219\"/>\n      </g>\n     </g>\n     <g id=\"text_12\">\n      <!-- 40 -->\n      <g transform=\"translate(7.2 150.698437)scale(0.1 -0.1)\">\n       <use xlink:href=\"#DejaVuSans-34\"/>\n       <use x=\"63.623047\" xlink:href=\"#DejaVuSans-30\"/>\n      </g>\n     </g>\n    </g>\n    <g id=\"ytick_6\">\n     <g id=\"line2d_13\">\n      <g>\n       <use style=\"stroke:#000000;stroke-width:0.8;\" x=\"26.925\" xlink:href=\"#m41f9c9f5e1\" y=\"180.874219\"/>\n      </g>\n     </g>\n     <g id=\"text_13\">\n      <!-- 50 -->\n      <g transform=\"translate(7.2 184.673437)scale(0.1 -0.1)\">\n       <use xlink:href=\"#DejaVuSans-35\"/>\n       <use x=\"63.623047\" xlink:href=\"#DejaVuSans-30\"/>\n      </g>\n     </g>\n    </g>\n    <g id=\"ytick_7\">\n     <g id=\"line2d_14\">\n      <g>\n       <use style=\"stroke:#000000;stroke-width:0.8;\" x=\"26.925\" xlink:href=\"#m41f9c9f5e1\" y=\"214.849219\"/>\n      </g>\n     </g>\n     <g id=\"text_14\">\n      <!-- 60 -->\n      <g transform=\"translate(7.2 218.648437)scale(0.1 -0.1)\">\n       <use xlink:href=\"#DejaVuSans-36\"/>\n       <use x=\"63.623047\" xlink:href=\"#DejaVuSans-30\"/>\n      </g>\n     </g>\n    </g>\n   </g>\n   <g id=\"patch_3\">\n    <path d=\"M 26.925 226.740469 \nL 26.925 9.300469 \n\" style=\"fill:none;stroke:#000000;stroke-linecap:square;stroke-linejoin:miter;stroke-width:0.8;\"/>\n   </g>\n   <g id=\"patch_4\">\n    <path d=\"M 244.365 226.740469 \nL 244.365 9.300469 \n\" style=\"fill:none;stroke:#000000;stroke-linecap:square;stroke-linejoin:miter;stroke-width:0.8;\"/>\n   </g>\n   <g id=\"patch_5\">\n    <path d=\"M 26.925 226.740469 \nL 244.365 226.740469 \n\" style=\"fill:none;stroke:#000000;stroke-linecap:square;stroke-linejoin:miter;stroke-width:0.8;\"/>\n   </g>\n   <g id=\"patch_6\">\n    <path d=\"M 26.925 9.300469 \nL 244.365 9.300469 \n\" style=\"fill:none;stroke:#000000;stroke-linecap:square;stroke-linejoin:miter;stroke-width:0.8;\"/>\n   </g>\n  </g>\n </g>\n <defs>\n  <clipPath id=\"pe9c405671e\">\n   <rect height=\"217.44\" width=\"217.44\" x=\"26.925\" y=\"9.300469\"/>\n  </clipPath>\n </defs>\n</svg>\n",
      "image/png": "[encoded data removed]"
     },
     "metadata": {
      "needs_background": "light"
     }
    }
   ],
   "source": [
    "# Example of a picture that was wrongly classified.\n",
    "index = 10\n",
    "plt.imshow(test_set_x[:,index].reshape((num_px, num_px, 3)))\n",
    "print (\"y = \" + str(test_set_y[0,index]) + \", you predicted that it is a \\\"\" + classes[d[\"Y_prediction_test\"][0,index]].decode(\"utf-8\") +  \"\\\" picture.\")"
   ]
  },
  {
   "cell_type": "markdown",
   "metadata": {},
   "source": [
    "Let's also plot the cost function and the gradients."
   ]
  },
  {
   "cell_type": "code",
   "execution_count": 73,
   "metadata": {},
   "outputs": [
    {
     "output_type": "display_data",
     "data": {
      "text/plain": "<Figure size 432x288 with 1 Axes>",
      "image/svg+xml": "<?xml version=\"1.0\" encoding=\"utf-8\" standalone=\"no\"?>\n<!DOCTYPE svg PUBLIC \"-//W3C//DTD SVG 1.1//EN\"\n  \"http://www.w3.org/Graphics/SVG/1.1/DTD/svg11.dtd\">\n<svg height=\"277.314375pt\" version=\"1.1\" viewBox=\"0 0 385.78125 277.314375\" width=\"385.78125pt\" xmlns=\"http://www.w3.org/2000/svg\" xmlns:xlink=\"http://www.w3.org/1999/xlink\">\n <metadata>\n  <rdf:RDF xmlns:cc=\"http://creativecommons.org/ns#\" xmlns:dc=\"http://purl.org/dc/elements/1.1/\" xmlns:rdf=\"http://www.w3.org/1999/02/22-rdf-syntax-ns#\">\n   <cc:Work>\n    <dc:type rdf:resource=\"http://purl.org/dc/dcmitype/StillImage\"/>\n    <dc:date>2021-04-12T06:51:58.017532</dc:date>\n    <dc:format>image/svg+xml</dc:format>\n    <dc:creator>\n     <cc:Agent>\n      <dc:title>Matplotlib v3.4.1, https://matplotlib.org/</dc:title>\n     </cc:Agent>\n    </dc:creator>\n   </cc:Work>\n  </rdf:RDF>\n </metadata>\n <defs>\n  <style type=\"text/css\">*{stroke-linecap:butt;stroke-linejoin:round;}</style>\n </defs>\n <g id=\"figure_1\">\n  <g id=\"patch_1\">\n   <path d=\"M 0 277.314375 \nL 385.78125 277.314375 \nL 385.78125 0 \nL 0 0 \nz\n\" style=\"fill:none;\"/>\n  </g>\n  <g id=\"axes_1\">\n   <g id=\"patch_2\">\n    <path d=\"M 43.78125 239.758125 \nL 378.58125 239.758125 \nL 378.58125 22.318125 \nL 43.78125 22.318125 \nz\n\" style=\"fill:#ffffff;\"/>\n   </g>\n   <g id=\"matplotlib.axis_1\">\n    <g id=\"xtick_1\">\n     <g id=\"line2d_1\">\n      <defs>\n       <path d=\"M 0 0 \nL 0 3.5 \n\" id=\"mf18be125cd\" style=\"stroke:#000000;stroke-width:0.8;\"/>\n      </defs>\n      <g>\n       <use style=\"stroke:#000000;stroke-width:0.8;\" x=\"58.999432\" xlink:href=\"#mf18be125cd\" y=\"239.758125\"/>\n      </g>\n     </g>\n     <g id=\"text_1\">\n      <!-- 0.0 -->\n      <g transform=\"translate(51.047869 254.356562)scale(0.1 -0.1)\">\n       <defs>\n        <path d=\"M 2034 4250 \nQ 1547 4250 1301 3770 \nQ 1056 3291 1056 2328 \nQ 1056 1369 1301 889 \nQ 1547 409 2034 409 \nQ 2525 409 2770 889 \nQ 3016 1369 3016 2328 \nQ 3016 3291 2770 3770 \nQ 2525 4250 2034 4250 \nz\nM 2034 4750 \nQ 2819 4750 3233 4129 \nQ 3647 3509 3647 2328 \nQ 3647 1150 3233 529 \nQ 2819 -91 2034 -91 \nQ 1250 -91 836 529 \nQ 422 1150 422 2328 \nQ 422 3509 836 4129 \nQ 1250 4750 2034 4750 \nz\n\" id=\"DejaVuSans-30\" transform=\"scale(0.015625)\"/>\n        <path d=\"M 684 794 \nL 1344 794 \nL 1344 0 \nL 684 0 \nL 684 794 \nz\n\" id=\"DejaVuSans-2e\" transform=\"scale(0.015625)\"/>\n       </defs>\n       <use xlink:href=\"#DejaVuSans-30\"/>\n       <use x=\"63.623047\" xlink:href=\"#DejaVuSans-2e\"/>\n       <use x=\"95.410156\" xlink:href=\"#DejaVuSans-30\"/>\n      </g>\n     </g>\n    </g>\n    <g id=\"xtick_2\">\n     <g id=\"line2d_2\">\n      <g>\n       <use style=\"stroke:#000000;stroke-width:0.8;\" x=\"99.047279\" xlink:href=\"#mf18be125cd\" y=\"239.758125\"/>\n      </g>\n     </g>\n     <g id=\"text_2\">\n      <!-- 2.5 -->\n      <g transform=\"translate(91.095716 254.356562)scale(0.1 -0.1)\">\n       <defs>\n        <path d=\"M 1228 531 \nL 3431 531 \nL 3431 0 \nL 469 0 \nL 469 531 \nQ 828 903 1448 1529 \nQ 2069 2156 2228 2338 \nQ 2531 2678 2651 2914 \nQ 2772 3150 2772 3378 \nQ 2772 3750 2511 3984 \nQ 2250 4219 1831 4219 \nQ 1534 4219 1204 4116 \nQ 875 4013 500 3803 \nL 500 4441 \nQ 881 4594 1212 4672 \nQ 1544 4750 1819 4750 \nQ 2544 4750 2975 4387 \nQ 3406 4025 3406 3419 \nQ 3406 3131 3298 2873 \nQ 3191 2616 2906 2266 \nQ 2828 2175 2409 1742 \nQ 1991 1309 1228 531 \nz\n\" id=\"DejaVuSans-32\" transform=\"scale(0.015625)\"/>\n        <path d=\"M 691 4666 \nL 3169 4666 \nL 3169 4134 \nL 1269 4134 \nL 1269 2991 \nQ 1406 3038 1543 3061 \nQ 1681 3084 1819 3084 \nQ 2600 3084 3056 2656 \nQ 3513 2228 3513 1497 \nQ 3513 744 3044 326 \nQ 2575 -91 1722 -91 \nQ 1428 -91 1123 -41 \nQ 819 9 494 109 \nL 494 744 \nQ 775 591 1075 516 \nQ 1375 441 1709 441 \nQ 2250 441 2565 725 \nQ 2881 1009 2881 1497 \nQ 2881 1984 2565 2268 \nQ 2250 2553 1709 2553 \nQ 1456 2553 1204 2497 \nQ 953 2441 691 2322 \nL 691 4666 \nz\n\" id=\"DejaVuSans-35\" transform=\"scale(0.015625)\"/>\n       </defs>\n       <use xlink:href=\"#DejaVuSans-32\"/>\n       <use x=\"63.623047\" xlink:href=\"#DejaVuSans-2e\"/>\n       <use x=\"95.410156\" xlink:href=\"#DejaVuSans-35\"/>\n      </g>\n     </g>\n    </g>\n    <g id=\"xtick_3\">\n     <g id=\"line2d_3\">\n      <g>\n       <use style=\"stroke:#000000;stroke-width:0.8;\" x=\"139.095126\" xlink:href=\"#mf18be125cd\" y=\"239.758125\"/>\n      </g>\n     </g>\n     <g id=\"text_3\">\n      <!-- 5.0 -->\n      <g transform=\"translate(131.143563 254.356562)scale(0.1 -0.1)\">\n       <use xlink:href=\"#DejaVuSans-35\"/>\n       <use x=\"63.623047\" xlink:href=\"#DejaVuSans-2e\"/>\n       <use x=\"95.410156\" xlink:href=\"#DejaVuSans-30\"/>\n      </g>\n     </g>\n    </g>\n    <g id=\"xtick_4\">\n     <g id=\"line2d_4\">\n      <g>\n       <use style=\"stroke:#000000;stroke-width:0.8;\" x=\"179.142972\" xlink:href=\"#mf18be125cd\" y=\"239.758125\"/>\n      </g>\n     </g>\n     <g id=\"text_4\">\n      <!-- 7.5 -->\n      <g transform=\"translate(171.19141 254.356562)scale(0.1 -0.1)\">\n       <defs>\n        <path d=\"M 525 4666 \nL 3525 4666 \nL 3525 4397 \nL 1831 0 \nL 1172 0 \nL 2766 4134 \nL 525 4134 \nL 525 4666 \nz\n\" id=\"DejaVuSans-37\" transform=\"scale(0.015625)\"/>\n       </defs>\n       <use xlink:href=\"#DejaVuSans-37\"/>\n       <use x=\"63.623047\" xlink:href=\"#DejaVuSans-2e\"/>\n       <use x=\"95.410156\" xlink:href=\"#DejaVuSans-35\"/>\n      </g>\n     </g>\n    </g>\n    <g id=\"xtick_5\">\n     <g id=\"line2d_5\">\n      <g>\n       <use style=\"stroke:#000000;stroke-width:0.8;\" x=\"219.190819\" xlink:href=\"#mf18be125cd\" y=\"239.758125\"/>\n      </g>\n     </g>\n     <g id=\"text_5\">\n      <!-- 10.0 -->\n      <g transform=\"translate(208.058007 254.356562)scale(0.1 -0.1)\">\n       <defs>\n        <path d=\"M 794 531 \nL 1825 531 \nL 1825 4091 \nL 703 3866 \nL 703 4441 \nL 1819 4666 \nL 2450 4666 \nL 2450 531 \nL 3481 531 \nL 3481 0 \nL 794 0 \nL 794 531 \nz\n\" id=\"DejaVuSans-31\" transform=\"scale(0.015625)\"/>\n       </defs>\n       <use xlink:href=\"#DejaVuSans-31\"/>\n       <use x=\"63.623047\" xlink:href=\"#DejaVuSans-30\"/>\n       <use x=\"127.246094\" xlink:href=\"#DejaVuSans-2e\"/>\n       <use x=\"159.033203\" xlink:href=\"#DejaVuSans-30\"/>\n      </g>\n     </g>\n    </g>\n    <g id=\"xtick_6\">\n     <g id=\"line2d_6\">\n      <g>\n       <use style=\"stroke:#000000;stroke-width:0.8;\" x=\"259.238666\" xlink:href=\"#mf18be125cd\" y=\"239.758125\"/>\n      </g>\n     </g>\n     <g id=\"text_6\">\n      <!-- 12.5 -->\n      <g transform=\"translate(248.105854 254.356562)scale(0.1 -0.1)\">\n       <use xlink:href=\"#DejaVuSans-31\"/>\n       <use x=\"63.623047\" xlink:href=\"#DejaVuSans-32\"/>\n       <use x=\"127.246094\" xlink:href=\"#DejaVuSans-2e\"/>\n       <use x=\"159.033203\" xlink:href=\"#DejaVuSans-35\"/>\n      </g>\n     </g>\n    </g>\n    <g id=\"xtick_7\">\n     <g id=\"line2d_7\">\n      <g>\n       <use style=\"stroke:#000000;stroke-width:0.8;\" x=\"299.286513\" xlink:href=\"#mf18be125cd\" y=\"239.758125\"/>\n      </g>\n     </g>\n     <g id=\"text_7\">\n      <!-- 15.0 -->\n      <g transform=\"translate(288.153701 254.356562)scale(0.1 -0.1)\">\n       <use xlink:href=\"#DejaVuSans-31\"/>\n       <use x=\"63.623047\" xlink:href=\"#DejaVuSans-35\"/>\n       <use x=\"127.246094\" xlink:href=\"#DejaVuSans-2e\"/>\n       <use x=\"159.033203\" xlink:href=\"#DejaVuSans-30\"/>\n      </g>\n     </g>\n    </g>\n    <g id=\"xtick_8\">\n     <g id=\"line2d_8\">\n      <g>\n       <use style=\"stroke:#000000;stroke-width:0.8;\" x=\"339.33436\" xlink:href=\"#mf18be125cd\" y=\"239.758125\"/>\n      </g>\n     </g>\n     <g id=\"text_8\">\n      <!-- 17.5 -->\n      <g transform=\"translate(328.201548 254.356562)scale(0.1 -0.1)\">\n       <use xlink:href=\"#DejaVuSans-31\"/>\n       <use x=\"63.623047\" xlink:href=\"#DejaVuSans-37\"/>\n       <use x=\"127.246094\" xlink:href=\"#DejaVuSans-2e\"/>\n       <use x=\"159.033203\" xlink:href=\"#DejaVuSans-35\"/>\n      </g>\n     </g>\n    </g>\n    <g id=\"text_9\">\n     <!-- iterations (per hundreds) -->\n     <g transform=\"translate(148.589063 268.034687)scale(0.1 -0.1)\">\n      <defs>\n       <path d=\"M 603 3500 \nL 1178 3500 \nL 1178 0 \nL 603 0 \nL 603 3500 \nz\nM 603 4863 \nL 1178 4863 \nL 1178 4134 \nL 603 4134 \nL 603 4863 \nz\n\" id=\"DejaVuSans-69\" transform=\"scale(0.015625)\"/>\n       <path d=\"M 1172 4494 \nL 1172 3500 \nL 2356 3500 \nL 2356 3053 \nL 1172 3053 \nL 1172 1153 \nQ 1172 725 1289 603 \nQ 1406 481 1766 481 \nL 2356 481 \nL 2356 0 \nL 1766 0 \nQ 1100 0 847 248 \nQ 594 497 594 1153 \nL 594 3053 \nL 172 3053 \nL 172 3500 \nL 594 3500 \nL 594 4494 \nL 1172 4494 \nz\n\" id=\"DejaVuSans-74\" transform=\"scale(0.015625)\"/>\n       <path d=\"M 3597 1894 \nL 3597 1613 \nL 953 1613 \nQ 991 1019 1311 708 \nQ 1631 397 2203 397 \nQ 2534 397 2845 478 \nQ 3156 559 3463 722 \nL 3463 178 \nQ 3153 47 2828 -22 \nQ 2503 -91 2169 -91 \nQ 1331 -91 842 396 \nQ 353 884 353 1716 \nQ 353 2575 817 3079 \nQ 1281 3584 2069 3584 \nQ 2775 3584 3186 3129 \nQ 3597 2675 3597 1894 \nz\nM 3022 2063 \nQ 3016 2534 2758 2815 \nQ 2500 3097 2075 3097 \nQ 1594 3097 1305 2825 \nQ 1016 2553 972 2059 \nL 3022 2063 \nz\n\" id=\"DejaVuSans-65\" transform=\"scale(0.015625)\"/>\n       <path d=\"M 2631 2963 \nQ 2534 3019 2420 3045 \nQ 2306 3072 2169 3072 \nQ 1681 3072 1420 2755 \nQ 1159 2438 1159 1844 \nL 1159 0 \nL 581 0 \nL 581 3500 \nL 1159 3500 \nL 1159 2956 \nQ 1341 3275 1631 3429 \nQ 1922 3584 2338 3584 \nQ 2397 3584 2469 3576 \nQ 2541 3569 2628 3553 \nL 2631 2963 \nz\n\" id=\"DejaVuSans-72\" transform=\"scale(0.015625)\"/>\n       <path d=\"M 2194 1759 \nQ 1497 1759 1228 1600 \nQ 959 1441 959 1056 \nQ 959 750 1161 570 \nQ 1363 391 1709 391 \nQ 2188 391 2477 730 \nQ 2766 1069 2766 1631 \nL 2766 1759 \nL 2194 1759 \nz\nM 3341 1997 \nL 3341 0 \nL 2766 0 \nL 2766 531 \nQ 2569 213 2275 61 \nQ 1981 -91 1556 -91 \nQ 1019 -91 701 211 \nQ 384 513 384 1019 \nQ 384 1609 779 1909 \nQ 1175 2209 1959 2209 \nL 2766 2209 \nL 2766 2266 \nQ 2766 2663 2505 2880 \nQ 2244 3097 1772 3097 \nQ 1472 3097 1187 3025 \nQ 903 2953 641 2809 \nL 641 3341 \nQ 956 3463 1253 3523 \nQ 1550 3584 1831 3584 \nQ 2591 3584 2966 3190 \nQ 3341 2797 3341 1997 \nz\n\" id=\"DejaVuSans-61\" transform=\"scale(0.015625)\"/>\n       <path d=\"M 1959 3097 \nQ 1497 3097 1228 2736 \nQ 959 2375 959 1747 \nQ 959 1119 1226 758 \nQ 1494 397 1959 397 \nQ 2419 397 2687 759 \nQ 2956 1122 2956 1747 \nQ 2956 2369 2687 2733 \nQ 2419 3097 1959 3097 \nz\nM 1959 3584 \nQ 2709 3584 3137 3096 \nQ 3566 2609 3566 1747 \nQ 3566 888 3137 398 \nQ 2709 -91 1959 -91 \nQ 1206 -91 779 398 \nQ 353 888 353 1747 \nQ 353 2609 779 3096 \nQ 1206 3584 1959 3584 \nz\n\" id=\"DejaVuSans-6f\" transform=\"scale(0.015625)\"/>\n       <path d=\"M 3513 2113 \nL 3513 0 \nL 2938 0 \nL 2938 2094 \nQ 2938 2591 2744 2837 \nQ 2550 3084 2163 3084 \nQ 1697 3084 1428 2787 \nQ 1159 2491 1159 1978 \nL 1159 0 \nL 581 0 \nL 581 3500 \nL 1159 3500 \nL 1159 2956 \nQ 1366 3272 1645 3428 \nQ 1925 3584 2291 3584 \nQ 2894 3584 3203 3211 \nQ 3513 2838 3513 2113 \nz\n\" id=\"DejaVuSans-6e\" transform=\"scale(0.015625)\"/>\n       <path d=\"M 2834 3397 \nL 2834 2853 \nQ 2591 2978 2328 3040 \nQ 2066 3103 1784 3103 \nQ 1356 3103 1142 2972 \nQ 928 2841 928 2578 \nQ 928 2378 1081 2264 \nQ 1234 2150 1697 2047 \nL 1894 2003 \nQ 2506 1872 2764 1633 \nQ 3022 1394 3022 966 \nQ 3022 478 2636 193 \nQ 2250 -91 1575 -91 \nQ 1294 -91 989 -36 \nQ 684 19 347 128 \nL 347 722 \nQ 666 556 975 473 \nQ 1284 391 1588 391 \nQ 1994 391 2212 530 \nQ 2431 669 2431 922 \nQ 2431 1156 2273 1281 \nQ 2116 1406 1581 1522 \nL 1381 1569 \nQ 847 1681 609 1914 \nQ 372 2147 372 2553 \nQ 372 3047 722 3315 \nQ 1072 3584 1716 3584 \nQ 2034 3584 2315 3537 \nQ 2597 3491 2834 3397 \nz\n\" id=\"DejaVuSans-73\" transform=\"scale(0.015625)\"/>\n       <path id=\"DejaVuSans-20\" transform=\"scale(0.015625)\"/>\n       <path d=\"M 1984 4856 \nQ 1566 4138 1362 3434 \nQ 1159 2731 1159 2009 \nQ 1159 1288 1364 580 \nQ 1569 -128 1984 -844 \nL 1484 -844 \nQ 1016 -109 783 600 \nQ 550 1309 550 2009 \nQ 550 2706 781 3412 \nQ 1013 4119 1484 4856 \nL 1984 4856 \nz\n\" id=\"DejaVuSans-28\" transform=\"scale(0.015625)\"/>\n       <path d=\"M 1159 525 \nL 1159 -1331 \nL 581 -1331 \nL 581 3500 \nL 1159 3500 \nL 1159 2969 \nQ 1341 3281 1617 3432 \nQ 1894 3584 2278 3584 \nQ 2916 3584 3314 3078 \nQ 3713 2572 3713 1747 \nQ 3713 922 3314 415 \nQ 2916 -91 2278 -91 \nQ 1894 -91 1617 61 \nQ 1341 213 1159 525 \nz\nM 3116 1747 \nQ 3116 2381 2855 2742 \nQ 2594 3103 2138 3103 \nQ 1681 3103 1420 2742 \nQ 1159 2381 1159 1747 \nQ 1159 1113 1420 752 \nQ 1681 391 2138 391 \nQ 2594 391 2855 752 \nQ 3116 1113 3116 1747 \nz\n\" id=\"DejaVuSans-70\" transform=\"scale(0.015625)\"/>\n       <path d=\"M 3513 2113 \nL 3513 0 \nL 2938 0 \nL 2938 2094 \nQ 2938 2591 2744 2837 \nQ 2550 3084 2163 3084 \nQ 1697 3084 1428 2787 \nQ 1159 2491 1159 1978 \nL 1159 0 \nL 581 0 \nL 581 4863 \nL 1159 4863 \nL 1159 2956 \nQ 1366 3272 1645 3428 \nQ 1925 3584 2291 3584 \nQ 2894 3584 3203 3211 \nQ 3513 2838 3513 2113 \nz\n\" id=\"DejaVuSans-68\" transform=\"scale(0.015625)\"/>\n       <path d=\"M 544 1381 \nL 544 3500 \nL 1119 3500 \nL 1119 1403 \nQ 1119 906 1312 657 \nQ 1506 409 1894 409 \nQ 2359 409 2629 706 \nQ 2900 1003 2900 1516 \nL 2900 3500 \nL 3475 3500 \nL 3475 0 \nL 2900 0 \nL 2900 538 \nQ 2691 219 2414 64 \nQ 2138 -91 1772 -91 \nQ 1169 -91 856 284 \nQ 544 659 544 1381 \nz\nM 1991 3584 \nL 1991 3584 \nz\n\" id=\"DejaVuSans-75\" transform=\"scale(0.015625)\"/>\n       <path d=\"M 2906 2969 \nL 2906 4863 \nL 3481 4863 \nL 3481 0 \nL 2906 0 \nL 2906 525 \nQ 2725 213 2448 61 \nQ 2172 -91 1784 -91 \nQ 1150 -91 751 415 \nQ 353 922 353 1747 \nQ 353 2572 751 3078 \nQ 1150 3584 1784 3584 \nQ 2172 3584 2448 3432 \nQ 2725 3281 2906 2969 \nz\nM 947 1747 \nQ 947 1113 1208 752 \nQ 1469 391 1925 391 \nQ 2381 391 2643 752 \nQ 2906 1113 2906 1747 \nQ 2906 2381 2643 2742 \nQ 2381 3103 1925 3103 \nQ 1469 3103 1208 2742 \nQ 947 2381 947 1747 \nz\n\" id=\"DejaVuSans-64\" transform=\"scale(0.015625)\"/>\n       <path d=\"M 513 4856 \nL 1013 4856 \nQ 1481 4119 1714 3412 \nQ 1947 2706 1947 2009 \nQ 1947 1309 1714 600 \nQ 1481 -109 1013 -844 \nL 513 -844 \nQ 928 -128 1133 580 \nQ 1338 1288 1338 2009 \nQ 1338 2731 1133 3434 \nQ 928 4138 513 4856 \nz\n\" id=\"DejaVuSans-29\" transform=\"scale(0.015625)\"/>\n      </defs>\n      <use xlink:href=\"#DejaVuSans-69\"/>\n      <use x=\"27.783203\" xlink:href=\"#DejaVuSans-74\"/>\n      <use x=\"66.992188\" xlink:href=\"#DejaVuSans-65\"/>\n      <use x=\"128.515625\" xlink:href=\"#DejaVuSans-72\"/>\n      <use x=\"169.628906\" xlink:href=\"#DejaVuSans-61\"/>\n      <use x=\"230.908203\" xlink:href=\"#DejaVuSans-74\"/>\n      <use x=\"270.117188\" xlink:href=\"#DejaVuSans-69\"/>\n      <use x=\"297.900391\" xlink:href=\"#DejaVuSans-6f\"/>\n      <use x=\"359.082031\" xlink:href=\"#DejaVuSans-6e\"/>\n      <use x=\"422.460938\" xlink:href=\"#DejaVuSans-73\"/>\n      <use x=\"474.560547\" xlink:href=\"#DejaVuSans-20\"/>\n      <use x=\"506.347656\" xlink:href=\"#DejaVuSans-28\"/>\n      <use x=\"545.361328\" xlink:href=\"#DejaVuSans-70\"/>\n      <use x=\"608.837891\" xlink:href=\"#DejaVuSans-65\"/>\n      <use x=\"670.361328\" xlink:href=\"#DejaVuSans-72\"/>\n      <use x=\"711.474609\" xlink:href=\"#DejaVuSans-20\"/>\n      <use x=\"743.261719\" xlink:href=\"#DejaVuSans-68\"/>\n      <use x=\"806.640625\" xlink:href=\"#DejaVuSans-75\"/>\n      <use x=\"870.019531\" xlink:href=\"#DejaVuSans-6e\"/>\n      <use x=\"933.398438\" xlink:href=\"#DejaVuSans-64\"/>\n      <use x=\"996.875\" xlink:href=\"#DejaVuSans-72\"/>\n      <use x=\"1035.738281\" xlink:href=\"#DejaVuSans-65\"/>\n      <use x=\"1097.261719\" xlink:href=\"#DejaVuSans-64\"/>\n      <use x=\"1160.738281\" xlink:href=\"#DejaVuSans-73\"/>\n      <use x=\"1212.837891\" xlink:href=\"#DejaVuSans-29\"/>\n     </g>\n    </g>\n   </g>\n   <g id=\"matplotlib.axis_2\">\n    <g id=\"ytick_1\">\n     <g id=\"line2d_9\">\n      <defs>\n       <path d=\"M 0 0 \nL -3.5 0 \n\" id=\"m5d8ca9f247\" style=\"stroke:#000000;stroke-width:0.8;\"/>\n      </defs>\n      <g>\n       <use style=\"stroke:#000000;stroke-width:0.8;\" x=\"43.78125\" xlink:href=\"#m5d8ca9f247\" y=\"208.711163\"/>\n      </g>\n     </g>\n     <g id=\"text_10\">\n      <!-- 0.2 -->\n      <g transform=\"translate(20.878125 212.510381)scale(0.1 -0.1)\">\n       <use xlink:href=\"#DejaVuSans-30\"/>\n       <use x=\"63.623047\" xlink:href=\"#DejaVuSans-2e\"/>\n       <use x=\"95.410156\" xlink:href=\"#DejaVuSans-32\"/>\n      </g>\n     </g>\n    </g>\n    <g id=\"ytick_2\">\n     <g id=\"line2d_10\">\n      <g>\n       <use style=\"stroke:#000000;stroke-width:0.8;\" x=\"43.78125\" xlink:href=\"#m5d8ca9f247\" y=\"172.918724\"/>\n      </g>\n     </g>\n     <g id=\"text_11\">\n      <!-- 0.3 -->\n      <g transform=\"translate(20.878125 176.717943)scale(0.1 -0.1)\">\n       <defs>\n        <path d=\"M 2597 2516 \nQ 3050 2419 3304 2112 \nQ 3559 1806 3559 1356 \nQ 3559 666 3084 287 \nQ 2609 -91 1734 -91 \nQ 1441 -91 1130 -33 \nQ 819 25 488 141 \nL 488 750 \nQ 750 597 1062 519 \nQ 1375 441 1716 441 \nQ 2309 441 2620 675 \nQ 2931 909 2931 1356 \nQ 2931 1769 2642 2001 \nQ 2353 2234 1838 2234 \nL 1294 2234 \nL 1294 2753 \nL 1863 2753 \nQ 2328 2753 2575 2939 \nQ 2822 3125 2822 3475 \nQ 2822 3834 2567 4026 \nQ 2313 4219 1838 4219 \nQ 1578 4219 1281 4162 \nQ 984 4106 628 3988 \nL 628 4550 \nQ 988 4650 1302 4700 \nQ 1616 4750 1894 4750 \nQ 2613 4750 3031 4423 \nQ 3450 4097 3450 3541 \nQ 3450 3153 3228 2886 \nQ 3006 2619 2597 2516 \nz\n\" id=\"DejaVuSans-33\" transform=\"scale(0.015625)\"/>\n       </defs>\n       <use xlink:href=\"#DejaVuSans-30\"/>\n       <use x=\"63.623047\" xlink:href=\"#DejaVuSans-2e\"/>\n       <use x=\"95.410156\" xlink:href=\"#DejaVuSans-33\"/>\n      </g>\n     </g>\n    </g>\n    <g id=\"ytick_3\">\n     <g id=\"line2d_11\">\n      <g>\n       <use style=\"stroke:#000000;stroke-width:0.8;\" x=\"43.78125\" xlink:href=\"#m5d8ca9f247\" y=\"137.126286\"/>\n      </g>\n     </g>\n     <g id=\"text_12\">\n      <!-- 0.4 -->\n      <g transform=\"translate(20.878125 140.925504)scale(0.1 -0.1)\">\n       <defs>\n        <path d=\"M 2419 4116 \nL 825 1625 \nL 2419 1625 \nL 2419 4116 \nz\nM 2253 4666 \nL 3047 4666 \nL 3047 1625 \nL 3713 1625 \nL 3713 1100 \nL 3047 1100 \nL 3047 0 \nL 2419 0 \nL 2419 1100 \nL 313 1100 \nL 313 1709 \nL 2253 4666 \nz\n\" id=\"DejaVuSans-34\" transform=\"scale(0.015625)\"/>\n       </defs>\n       <use xlink:href=\"#DejaVuSans-30\"/>\n       <use x=\"63.623047\" xlink:href=\"#DejaVuSans-2e\"/>\n       <use x=\"95.410156\" xlink:href=\"#DejaVuSans-34\"/>\n      </g>\n     </g>\n    </g>\n    <g id=\"ytick_4\">\n     <g id=\"line2d_12\">\n      <g>\n       <use style=\"stroke:#000000;stroke-width:0.8;\" x=\"43.78125\" xlink:href=\"#m5d8ca9f247\" y=\"101.333847\"/>\n      </g>\n     </g>\n     <g id=\"text_13\">\n      <!-- 0.5 -->\n      <g transform=\"translate(20.878125 105.133066)scale(0.1 -0.1)\">\n       <use xlink:href=\"#DejaVuSans-30\"/>\n       <use x=\"63.623047\" xlink:href=\"#DejaVuSans-2e\"/>\n       <use x=\"95.410156\" xlink:href=\"#DejaVuSans-35\"/>\n      </g>\n     </g>\n    </g>\n    <g id=\"ytick_5\">\n     <g id=\"line2d_13\">\n      <g>\n       <use style=\"stroke:#000000;stroke-width:0.8;\" x=\"43.78125\" xlink:href=\"#m5d8ca9f247\" y=\"65.541409\"/>\n      </g>\n     </g>\n     <g id=\"text_14\">\n      <!-- 0.6 -->\n      <g transform=\"translate(20.878125 69.340627)scale(0.1 -0.1)\">\n       <defs>\n        <path d=\"M 2113 2584 \nQ 1688 2584 1439 2293 \nQ 1191 2003 1191 1497 \nQ 1191 994 1439 701 \nQ 1688 409 2113 409 \nQ 2538 409 2786 701 \nQ 3034 994 3034 1497 \nQ 3034 2003 2786 2293 \nQ 2538 2584 2113 2584 \nz\nM 3366 4563 \nL 3366 3988 \nQ 3128 4100 2886 4159 \nQ 2644 4219 2406 4219 \nQ 1781 4219 1451 3797 \nQ 1122 3375 1075 2522 \nQ 1259 2794 1537 2939 \nQ 1816 3084 2150 3084 \nQ 2853 3084 3261 2657 \nQ 3669 2231 3669 1497 \nQ 3669 778 3244 343 \nQ 2819 -91 2113 -91 \nQ 1303 -91 875 529 \nQ 447 1150 447 2328 \nQ 447 3434 972 4092 \nQ 1497 4750 2381 4750 \nQ 2619 4750 2861 4703 \nQ 3103 4656 3366 4563 \nz\n\" id=\"DejaVuSans-36\" transform=\"scale(0.015625)\"/>\n       </defs>\n       <use xlink:href=\"#DejaVuSans-30\"/>\n       <use x=\"63.623047\" xlink:href=\"#DejaVuSans-2e\"/>\n       <use x=\"95.410156\" xlink:href=\"#DejaVuSans-36\"/>\n      </g>\n     </g>\n    </g>\n    <g id=\"ytick_6\">\n     <g id=\"line2d_14\">\n      <g>\n       <use style=\"stroke:#000000;stroke-width:0.8;\" x=\"43.78125\" xlink:href=\"#m5d8ca9f247\" y=\"29.74897\"/>\n      </g>\n     </g>\n     <g id=\"text_15\">\n      <!-- 0.7 -->\n      <g transform=\"translate(20.878125 33.548189)scale(0.1 -0.1)\">\n       <use xlink:href=\"#DejaVuSans-30\"/>\n       <use x=\"63.623047\" xlink:href=\"#DejaVuSans-2e\"/>\n       <use x=\"95.410156\" xlink:href=\"#DejaVuSans-37\"/>\n      </g>\n     </g>\n    </g>\n    <g id=\"text_16\">\n     <!-- cost -->\n     <g transform=\"translate(14.798438 141.411562)rotate(-90)scale(0.1 -0.1)\">\n      <defs>\n       <path d=\"M 3122 3366 \nL 3122 2828 \nQ 2878 2963 2633 3030 \nQ 2388 3097 2138 3097 \nQ 1578 3097 1268 2742 \nQ 959 2388 959 1747 \nQ 959 1106 1268 751 \nQ 1578 397 2138 397 \nQ 2388 397 2633 464 \nQ 2878 531 3122 666 \nL 3122 134 \nQ 2881 22 2623 -34 \nQ 2366 -91 2075 -91 \nQ 1284 -91 818 406 \nQ 353 903 353 1747 \nQ 353 2603 823 3093 \nQ 1294 3584 2113 3584 \nQ 2378 3584 2631 3529 \nQ 2884 3475 3122 3366 \nz\n\" id=\"DejaVuSans-63\" transform=\"scale(0.015625)\"/>\n      </defs>\n      <use xlink:href=\"#DejaVuSans-63\"/>\n      <use x=\"54.980469\" xlink:href=\"#DejaVuSans-6f\"/>\n      <use x=\"116.162109\" xlink:href=\"#DejaVuSans-73\"/>\n      <use x=\"168.261719\" xlink:href=\"#DejaVuSans-74\"/>\n     </g>\n    </g>\n   </g>\n   <g id=\"line2d_15\">\n    <path clip-path=\"url(#p9b112c9315)\" d=\"M 58.999432 32.201761 \nL 75.018571 71.086243 \nL 91.037709 113.163591 \nL 107.056848 145.714013 \nL 123.075987 161.657246 \nL 139.095126 171.747214 \nL 155.114264 180.120311 \nL 171.133403 187.220618 \nL 187.152542 193.341645 \nL 203.171681 198.687769 \nL 219.190819 203.406897 \nL 235.209958 207.609403 \nL 251.229097 211.379748 \nL 267.248236 214.783945 \nL 283.267374 217.87453 \nL 299.286513 220.693971 \nL 315.305652 223.277068 \nL 331.324791 225.652681 \nL 347.343929 227.845 \nL 363.363068 229.874489 \n\" style=\"fill:none;stroke:#1f77b4;stroke-linecap:square;stroke-width:1.5;\"/>\n   </g>\n   <g id=\"patch_3\">\n    <path d=\"M 43.78125 239.758125 \nL 43.78125 22.318125 \n\" style=\"fill:none;stroke:#000000;stroke-linecap:square;stroke-linejoin:miter;stroke-width:0.8;\"/>\n   </g>\n   <g id=\"patch_4\">\n    <path d=\"M 378.58125 239.758125 \nL 378.58125 22.318125 \n\" style=\"fill:none;stroke:#000000;stroke-linecap:square;stroke-linejoin:miter;stroke-width:0.8;\"/>\n   </g>\n   <g id=\"patch_5\">\n    <path d=\"M 43.78125 239.758125 \nL 378.58125 239.758125 \n\" style=\"fill:none;stroke:#000000;stroke-linecap:square;stroke-linejoin:miter;stroke-width:0.8;\"/>\n   </g>\n   <g id=\"patch_6\">\n    <path d=\"M 43.78125 22.318125 \nL 378.58125 22.318125 \n\" style=\"fill:none;stroke:#000000;stroke-linecap:square;stroke-linejoin:miter;stroke-width:0.8;\"/>\n   </g>\n   <g id=\"text_17\">\n    <!-- Learning rate =0.005 -->\n    <g transform=\"translate(146.925938 16.318125)scale(0.12 -0.12)\">\n     <defs>\n      <path d=\"M 628 4666 \nL 1259 4666 \nL 1259 531 \nL 3531 531 \nL 3531 0 \nL 628 0 \nL 628 4666 \nz\n\" id=\"DejaVuSans-4c\" transform=\"scale(0.015625)\"/>\n      <path d=\"M 2906 1791 \nQ 2906 2416 2648 2759 \nQ 2391 3103 1925 3103 \nQ 1463 3103 1205 2759 \nQ 947 2416 947 1791 \nQ 947 1169 1205 825 \nQ 1463 481 1925 481 \nQ 2391 481 2648 825 \nQ 2906 1169 2906 1791 \nz\nM 3481 434 \nQ 3481 -459 3084 -895 \nQ 2688 -1331 1869 -1331 \nQ 1566 -1331 1297 -1286 \nQ 1028 -1241 775 -1147 \nL 775 -588 \nQ 1028 -725 1275 -790 \nQ 1522 -856 1778 -856 \nQ 2344 -856 2625 -561 \nQ 2906 -266 2906 331 \nL 2906 616 \nQ 2728 306 2450 153 \nQ 2172 0 1784 0 \nQ 1141 0 747 490 \nQ 353 981 353 1791 \nQ 353 2603 747 3093 \nQ 1141 3584 1784 3584 \nQ 2172 3584 2450 3431 \nQ 2728 3278 2906 2969 \nL 2906 3500 \nL 3481 3500 \nL 3481 434 \nz\n\" id=\"DejaVuSans-67\" transform=\"scale(0.015625)\"/>\n      <path d=\"M 678 2906 \nL 4684 2906 \nL 4684 2381 \nL 678 2381 \nL 678 2906 \nz\nM 678 1631 \nL 4684 1631 \nL 4684 1100 \nL 678 1100 \nL 678 1631 \nz\n\" id=\"DejaVuSans-3d\" transform=\"scale(0.015625)\"/>\n     </defs>\n     <use xlink:href=\"#DejaVuSans-4c\"/>\n     <use x=\"53.962891\" xlink:href=\"#DejaVuSans-65\"/>\n     <use x=\"115.486328\" xlink:href=\"#DejaVuSans-61\"/>\n     <use x=\"176.765625\" xlink:href=\"#DejaVuSans-72\"/>\n     <use x=\"216.128906\" xlink:href=\"#DejaVuSans-6e\"/>\n     <use x=\"279.507812\" xlink:href=\"#DejaVuSans-69\"/>\n     <use x=\"307.291016\" xlink:href=\"#DejaVuSans-6e\"/>\n     <use x=\"370.669922\" xlink:href=\"#DejaVuSans-67\"/>\n     <use x=\"434.146484\" xlink:href=\"#DejaVuSans-20\"/>\n     <use x=\"465.933594\" xlink:href=\"#DejaVuSans-72\"/>\n     <use x=\"507.046875\" xlink:href=\"#DejaVuSans-61\"/>\n     <use x=\"568.326172\" xlink:href=\"#DejaVuSans-74\"/>\n     <use x=\"607.535156\" xlink:href=\"#DejaVuSans-65\"/>\n     <use x=\"669.058594\" xlink:href=\"#DejaVuSans-20\"/>\n     <use x=\"700.845703\" xlink:href=\"#DejaVuSans-3d\"/>\n     <use x=\"784.634766\" xlink:href=\"#DejaVuSans-30\"/>\n     <use x=\"848.257812\" xlink:href=\"#DejaVuSans-2e\"/>\n     <use x=\"880.044922\" xlink:href=\"#DejaVuSans-30\"/>\n     <use x=\"943.667969\" xlink:href=\"#DejaVuSans-30\"/>\n     <use x=\"1007.291016\" xlink:href=\"#DejaVuSans-35\"/>\n    </g>\n   </g>\n  </g>\n </g>\n <defs>\n  <clipPath id=\"p9b112c9315\">\n   <rect height=\"217.44\" width=\"334.8\" x=\"43.78125\" y=\"22.318125\"/>\n  </clipPath>\n </defs>\n</svg>\n",
      "image/png": "[encoded data removed]"
     },
     "metadata": {
      "needs_background": "light"
     }
    }
   ],
   "source": [
    "# Plot learning curve (with costs)\n",
    "costs = np.squeeze(d['costs'])\n",
    "plt.plot(costs)\n",
    "plt.ylabel('cost')\n",
    "plt.xlabel('iterations (per hundreds)')\n",
    "plt.title(\"Learning rate =\" + str(d[\"learning_rate\"]))\n",
    "plt.show()"
   ]
  },
  {
   "cell_type": "markdown",
   "metadata": {},
   "source": [
    "**Interpretation**:\n",
    "You can see the cost decreasing. It shows that the parameters are being learned. However, you see that you could train the model even more on the training set. Try to increase the number of iterations in the cell above and rerun the cells. You might see that the training set accuracy goes up, but the test set accuracy goes down. This is called overfitting. "
   ]
  },
  {
   "cell_type": "markdown",
   "metadata": {},
   "source": [
    "## 6 - Further analysis (optional/ungraded exercise) ##\n",
    "\n",
    "Congratulations on building your first image classification model. Let's analyze it further, and examine possible choices for the learning rate $\\alpha$. "
   ]
  },
  {
   "cell_type": "markdown",
   "metadata": {},
   "source": [
    "#### Choice of learning rate ####\n",
    "\n",
    "**Reminder**:\n",
    "In order for Gradient Descent to work you must choose the learning rate wisely. The learning rate $\\alpha$  determines how rapidly we update the parameters. If the learning rate is too large we may \"overshoot\" the optimal value. Similarly, if it is too small we will need too many iterations to converge to the best values. That's why it is crucial to use a well-tuned learning rate.\n",
    "\n",
    "Let's compare the learning curve of our model with several choices of learning rates. Run the cell below. This should take about 1 minute. Feel free also to try different values than the three we have initialized the `learning_rates` variable to contain, and see what happens. "
   ]
  },
  {
   "cell_type": "code",
   "execution_count": 86,
   "metadata": {},
   "outputs": [
    {
     "name": "stdout",
     "output_type": "stream",
     "text": [
      "learning rate is: 0.01\n",
      "train accuracy: 99.52153110047847 %\n",
      "test accuracy: 68.0 %\n",
      "\n",
      "-------------------------------------------------------\n",
      "\n",
      "learning rate is: 0.001\n",
      "train accuracy: 88.99521531100478 %\n",
      "test accuracy: 64.0 %\n",
      "\n",
      "-------------------------------------------------------\n",
      "\n",
      "learning rate is: 0.0001\n",
      "train accuracy: 68.42105263157895 %\n",
      "test accuracy: 36.0 %\n",
      "\n",
      "-------------------------------------------------------\n",
      "\n"
     ]
    },
    {
     "data": {
      "image/png": "[encoded data removed]",
      "text/plain": [
       "<matplotlib.figure.Figure at 0x7efd83f94a20>"
      ]
     },
     "metadata": {},
     "output_type": "display_data"
    }
   ],
   "source": [
    "learning_rates = [0.01, 0.001, 0.0001]\n",
    "models = {}\n",
    "for i in learning_rates:\n",
    "    print (\"learning rate is: \" + str(i))\n",
    "    models[str(i)] = model(train_set_x, train_set_y, test_set_x, test_set_y, num_iterations = 1500, learning_rate = i, print_cost = False)\n",
    "    print ('\\n' + \"-------------------------------------------------------\" + '\\n')\n",
    "\n",
    "for i in learning_rates:\n",
    "    plt.plot(np.squeeze(models[str(i)][\"costs\"]), label= str(models[str(i)][\"learning_rate\"]))\n",
    "\n",
    "plt.ylabel('cost')\n",
    "plt.xlabel('iterations (hundreds)')\n",
    "\n",
    "legend = plt.legend(loc='upper center', shadow=True)\n",
    "frame = legend.get_frame()\n",
    "frame.set_facecolor('0.90')\n",
    "plt.show()"
   ]
  },
  {
   "cell_type": "markdown",
   "metadata": {},
   "source": [
    "**Interpretation**: \n",
    "- Different learning rates give different costs and thus different predictions results.\n",
    "- If the learning rate is too large (0.01), the cost may oscillate up and down. It may even diverge (though in this example, using 0.01 still eventually ends up at a good value for the cost). \n",
    "- A lower cost doesn't mean a better model. You have to check if there is possibly overfitting. It happens when the training accuracy is a lot higher than the test accuracy.\n",
    "- In deep learning, we usually recommend that you: \n",
    "    - Choose the learning rate that better minimizes the cost function.\n",
    "    - If your model overfits, use other techniques to reduce overfitting. (We'll talk about this in later videos.) \n"
   ]
  },
  {
   "cell_type": "markdown",
   "metadata": {},
   "source": [
    "## 7 - Test with your own image (optional/ungraded exercise) ##\n",
    "\n",
    "Congratulations on finishing this assignment. You can use your own image and see the output of your model. To do that:\n",
    "    1. Click on \"File\" in the upper bar of this notebook, then click \"Open\" to go on your Coursera Hub.\n",
    "    2. Add your image to this Jupyter Notebook's directory, in the \"images\" folder\n",
    "    3. Change your image's name in the following code\n",
    "    4. Run the code and check if the algorithm is right (1 = cat, 0 = non-cat)!"
   ]
  },
  {
   "cell_type": "code",
   "execution_count": null,
   "metadata": {
    "collapsed": true,
    "scrolled": false
   },
   "outputs": [],
   "source": [
    "## START CODE HERE ## (PUT YOUR IMAGE NAME) \n",
    "my_image = \"my_image.jpg\"   # change this to the name of your image file \n",
    "## END CODE HERE ##\n",
    "\n",
    "# We preprocess the image to fit your algorithm.\n",
    "fname = \"images/\" + my_image\n",
    "image = np.array(ndimage.imread(fname, flatten=False))\n",
    "image = image/255.\n",
    "my_image = scipy.misc.imresize(image, size=(num_px,num_px)).reshape((1, num_px*num_px*3)).T\n",
    "my_predicted_image = predict(d[\"w\"], d[\"b\"], my_image)\n",
    "\n",
    "plt.imshow(image)\n",
    "print(\"y = \" + str(np.squeeze(my_predicted_image)) + \", your algorithm predicts a \\\"\" + classes[int(np.squeeze(my_predicted_image)),].decode(\"utf-8\") +  \"\\\" picture.\")"
   ]
  },
  {
   "cell_type": "markdown",
   "metadata": {},
   "source": [
    "<font color='blue'>\n",
    "**What to remember from this assignment:**\n",
    "1. Preprocessing the dataset is important.\n",
    "2. You implemented each function separately: initialize(), propagate(), optimize(). Then you built a model().\n",
    "3. Tuning the learning rate (which is an example of a \"hyperparameter\") can make a big difference to the algorithm. You will see more examples of this later in this course!"
   ]
  },
  {
   "cell_type": "markdown",
   "metadata": {},
   "source": [
    "Finally, if you'd like, we invite you to try different things on this Notebook. Make sure you submit before trying anything. Once you submit, things you can play with include:\n",
    "    - Play with the learning rate and the number of iterations\n",
    "    - Try different initialization methods and compare the results\n",
    "    - Test other preprocessings (center the data, or divide each row by its standard deviation)"
   ]
  },
  {
   "cell_type": "markdown",
   "metadata": {},
   "source": [
    "Bibliography:\n",
    "- http://www.wildml.com/2015/09/implementing-a-neural-network-from-scratch/\n",
    "- https://stats.stackexchange.com/questions/211436/why-do-we-normalize-images-by-subtracting-the-datasets-image-mean-and-not-the-c"
   ]
  }
 ],
 "metadata": {
  "coursera": {
   "course_slug": "neural-networks-deep-learning",
   "graded_item_id": "XaIWT",
   "launcher_item_id": "zAgPl"
  },
  "kernelspec": {
   "display_name": "Python 3.8.5 64-bit ('venv': venv)",
   "language": "python",
   "name": "python385jvsc74a57bd08727a21bc773d97dce96f6da8185ef1d59cb32d053a9af48b967df1c5a6b960c"
  },
  "language_info": {
   "codemirror_mode": {
    "name": "ipython",
    "version": 3
   },
   "file_extension": ".py",
   "mimetype": "text/x-python",
   "name": "python",
   "nbconvert_exporter": "python",
   "pygments_lexer": "ipython3",
   "version": "3.8.5-final"
  }
 },
 "nbformat": 4,
 "nbformat_minor": 2
}